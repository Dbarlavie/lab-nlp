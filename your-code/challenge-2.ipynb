{
 "cells": [
  {
   "cell_type": "markdown",
   "metadata": {},
   "source": [
    "# Challenge 2: Sentiment Analysis\n",
    "\n",
    "In this challenge we will learn sentiment analysis and practice performing sentiment analysis on Twitter tweets. \n",
    "\n",
    "## Introduction\n",
    "\n",
    "Sentiment analysis is to *systematically identify, extract, quantify, and study affective states and subjective information* based on texts ([reference](https://en.wikipedia.org/wiki/Sentiment_analysis)). In simple words, it's to understand whether a person is happy or unhappy in producing the piece of text. Why we (or rather, companies) care about sentiment in texts? It's because by understanding the sentiments in texts, we will be able to know if our customers are happy or unhappy about our products and services. If they are unhappy, the subsequent action is to figure out what have caused the unhappiness and make improvements.\n",
    "\n",
    "Basic sentiment analysis only understands the *positive* or *negative* (sometimes *neutral* too) polarities of the sentiment. More advanced sentiment analysis will also consider dimensions such as agreement, subjectivity, confidence, irony, and so on. In this challenge we will conduct the basic positive vs negative sentiment analysis based on real Twitter tweets.\n",
    "\n",
    "NLTK comes with a [sentiment analysis package](https://www.nltk.org/api/nltk.sentiment.html). This package is great for dummies to perform sentiment analysis because it requires only the textual data to make predictions. For example:\n",
    "\n",
    "```python\n",
    ">>> from nltk.sentiment.vader import SentimentIntensityAnalyzer\n",
    ">>> txt = \"Ironhack is a Global Tech School ranked num 2 worldwide.  ",
    " ",
    "Our mission is to help people transform their careers and join a thriving community of tech professionals that love what they do.\"\n",
    ">>> analyzer = SentimentIntensityAnalyzer()\n",
    ">>> analyzer.polarity_scores(txt)\n",
    "{'neg': 0.0, 'neu': 0.741, 'pos': 0.259, 'compound': 0.8442}\n",
    "```\n",
    "\n",
    "In this challenge, however, you will not use NLTK's sentiment analysis package because in your Machine Learning training in the past 2 weeks you have learned how to make predictions more accurate than that. The [tweets data](https://www.kaggle.com/kazanova/sentiment140) we will be using today are already coded for the positive/negative sentiment. You will be able to use the Naïve Bayes classifier you learned in the lesson to predict the sentiment of tweets based on the labels."
   ]
  },
  {
   "cell_type": "markdown",
   "metadata": {},
   "source": [
    "## Conducting Sentiment Analysis\n",
    "\n",
    "### Loading and Exploring Data\n",
    "\n",
    "The dataset we'll be using today is located on Kaggle (https://www.kaggle.com/kazanova/sentiment140). Once you have downloaded and imported the dataset, it you will need to define the columns names: df.columns = ['target','id','date','flag','user','text']\n",
    "\n",
    "*Notes:* \n",
    "\n",
    "* The dataset is huuuuge (1.6m tweets). When you develop your data analysis codes, you can sample a subset of the data (e.g. 20k records) so that you will save a lot of time when you test your codes."
   ]
  },
  {
   "cell_type": "code",
   "execution_count": 1,
   "metadata": {},
   "outputs": [],
   "source": [
    "import pandas as pd\n",
    "import numpy as np"
   ]
  },
  {
   "cell_type": "code",
   "execution_count": 2,
   "metadata": {},
   "outputs": [],
   "source": [
    "df = pd.read_csv(\"training.1600000.processed.noemoticon.csv\", encoding='latin1')"
   ]
  },
  {
   "cell_type": "code",
   "execution_count": 3,
   "metadata": {},
   "outputs": [],
   "source": [
    "df.columns = ['target','id','date','flag','user','text']"
   ]
  },
  {
   "cell_type": "code",
   "execution_count": 4,
   "metadata": {},
   "outputs": [
    {
     "data": {
      "text/html": [
       "<div>\n",
       "<style scoped>\n",
       "    .dataframe tbody tr th:only-of-type {\n",
       "        vertical-align: middle;\n",
       "    }\n",
       "\n",
       "    .dataframe tbody tr th {\n",
       "        vertical-align: top;\n",
       "    }\n",
       "\n",
       "    .dataframe thead th {\n",
       "        text-align: right;\n",
       "    }\n",
       "</style>\n",
       "<table border=\"1\" class=\"dataframe\">\n",
       "  <thead>\n",
       "    <tr style=\"text-align: right;\">\n",
       "      <th></th>\n",
       "      <th>target</th>\n",
       "      <th>id</th>\n",
       "      <th>date</th>\n",
       "      <th>flag</th>\n",
       "      <th>user</th>\n",
       "      <th>text</th>\n",
       "    </tr>\n",
       "  </thead>\n",
       "  <tbody>\n",
       "    <tr>\n",
       "      <th>0</th>\n",
       "      <td>0</td>\n",
       "      <td>1467810672</td>\n",
       "      <td>Mon Apr 06 22:19:49 PDT 2009</td>\n",
       "      <td>NO_QUERY</td>\n",
       "      <td>scotthamilton</td>\n",
       "      <td>is upset that he can't update his Facebook by ...</td>\n",
       "    </tr>\n",
       "    <tr>\n",
       "      <th>1</th>\n",
       "      <td>0</td>\n",
       "      <td>1467810917</td>\n",
       "      <td>Mon Apr 06 22:19:53 PDT 2009</td>\n",
       "      <td>NO_QUERY</td>\n",
       "      <td>mattycus</td>\n",
       "      <td>@Kenichan I dived many times for the ball. Man...</td>\n",
       "    </tr>\n",
       "    <tr>\n",
       "      <th>2</th>\n",
       "      <td>0</td>\n",
       "      <td>1467811184</td>\n",
       "      <td>Mon Apr 06 22:19:57 PDT 2009</td>\n",
       "      <td>NO_QUERY</td>\n",
       "      <td>ElleCTF</td>\n",
       "      <td>my whole body feels itchy and like its on fire</td>\n",
       "    </tr>\n",
       "    <tr>\n",
       "      <th>3</th>\n",
       "      <td>0</td>\n",
       "      <td>1467811193</td>\n",
       "      <td>Mon Apr 06 22:19:57 PDT 2009</td>\n",
       "      <td>NO_QUERY</td>\n",
       "      <td>Karoli</td>\n",
       "      <td>@nationwideclass no, it's not behaving at all....</td>\n",
       "    </tr>\n",
       "    <tr>\n",
       "      <th>4</th>\n",
       "      <td>0</td>\n",
       "      <td>1467811372</td>\n",
       "      <td>Mon Apr 06 22:20:00 PDT 2009</td>\n",
       "      <td>NO_QUERY</td>\n",
       "      <td>joy_wolf</td>\n",
       "      <td>@Kwesidei not the whole crew</td>\n",
       "    </tr>\n",
       "  </tbody>\n",
       "</table>\n",
       "</div>"
      ],
      "text/plain": [
       "   target          id                          date      flag           user  \\\n",
       "0       0  1467810672  Mon Apr 06 22:19:49 PDT 2009  NO_QUERY  scotthamilton   \n",
       "1       0  1467810917  Mon Apr 06 22:19:53 PDT 2009  NO_QUERY       mattycus   \n",
       "2       0  1467811184  Mon Apr 06 22:19:57 PDT 2009  NO_QUERY        ElleCTF   \n",
       "3       0  1467811193  Mon Apr 06 22:19:57 PDT 2009  NO_QUERY         Karoli   \n",
       "4       0  1467811372  Mon Apr 06 22:20:00 PDT 2009  NO_QUERY       joy_wolf   \n",
       "\n",
       "                                                text  \n",
       "0  is upset that he can't update his Facebook by ...  \n",
       "1  @Kenichan I dived many times for the ball. Man...  \n",
       "2    my whole body feels itchy and like its on fire   \n",
       "3  @nationwideclass no, it's not behaving at all....  \n",
       "4                      @Kwesidei not the whole crew   "
      ]
     },
     "execution_count": 4,
     "metadata": {},
     "output_type": "execute_result"
    }
   ],
   "source": [
    "df.head()"
   ]
  },
  {
   "cell_type": "markdown",
   "metadata": {},
   "source": [
    "### Prepare Textual Data for Sentiment Analysis\n",
    "\n",
    "Now, apply the functions you have written in Challenge 1 to your whole data set. These functions include:\n",
    "\n",
    "* `clean_up()`\n",
    "\n",
    "* `tokenize()`\n",
    "\n",
    "* `stem_and_lemmatize()`\n",
    "\n",
    "* `remove_stopwords()`\n",
    "\n",
    "Create a new column called `text_processed` in the dataframe to contain the processed data. At the end, your `text_processed` column should contain lists of word tokens that are cleaned up. Your data should look like below:\n",
    "\n",
    "![Processed Data](data-cleaning-results.png)"
   ]
  },
  {
   "cell_type": "code",
   "execution_count": 5,
   "metadata": {},
   "outputs": [],
   "source": [
    "import re\n",
    "def clean_up(s):\n",
    "    \"\"\"\n",
    "    Cleans up numbers, URLs, and special characters from a string.\n",
    "\n",
    "    Args:\n",
    "        s: The string to be cleaned up.\n",
    "\n",
    "    Returns:\n",
    "        A string that has been cleaned up.\n",
    "    \"\"\"\n",
    "    # Remove URLs\n",
    "    s = re.sub(r'http\\S+', '', s)\n",
    "\n",
    "    # Remove special characters and numbers\n",
    "    s = re.sub(r'[^a-zA-Z\\s]', ' ', s)\n",
    "\n",
    "    # Convert to lowercase\n",
    "    s = s.lower()\n",
    "\n",
    "    return s"
   ]
  },
  {
   "cell_type": "code",
   "execution_count": 6,
   "metadata": {},
   "outputs": [],
   "source": [
    "df['text_processed'] = df['text'].apply(clean_up)"
   ]
  },
  {
   "cell_type": "code",
   "execution_count": 7,
   "metadata": {},
   "outputs": [],
   "source": [
    "# df.head()"
   ]
  },
  {
   "cell_type": "code",
   "execution_count": 8,
   "metadata": {},
   "outputs": [],
   "source": [
    "import nltk\n",
    "from nltk.tokenize import word_tokenize\n",
    "def tokenize(s):\n",
    "    \"\"\"\n",
    "    Tokenize a string.\n",
    "\n",
    "    Args:\n",
    "        s: String to be tokenized.\n",
    "\n",
    "    Returns:\n",
    "        A list of words as the result of tokenization.\n",
    "    \"\"\"    \n",
    "    return word_tokenize(s)"
   ]
  },
  {
   "cell_type": "code",
   "execution_count": 9,
   "metadata": {},
   "outputs": [],
   "source": [
    "df['text_processed'] = df['text_processed'].apply(tokenize)\n",
    "# df.head()"
   ]
  },
  {
   "cell_type": "code",
   "execution_count": 10,
   "metadata": {},
   "outputs": [],
   "source": [
    "from nltk.stem import PorterStemmer, WordNetLemmatizer\n",
    "def stem_and_lemmatize(words):\n",
    "    \"\"\"\n",
    "    Perform stemming and lemmatization on a list of words.\n",
    "\n",
    "    Args:\n",
    "        l: A list of strings.\n",
    "\n",
    "    Returns:\n",
    "        A list of strings after being stemmed and lemmatized.\n",
    "    \"\"\" \n",
    "    stemmer = PorterStemmer()\n",
    "    lemmatizer = WordNetLemmatizer()\n",
    "    \n",
    "    stemmed_and_lemmatized = []\n",
    "    \n",
    "    for word in words:\n",
    "        stemmed_word = stemmer.stem(word)\n",
    "        lemmatized_word = lemmatizer.lemmatize(word)\n",
    "        stemmed_and_lemmatized.append((stemmed_word, lemmatized_word))\n",
    "    \n",
    "    return stemmed_and_lemmatized"
   ]
  },
  {
   "cell_type": "code",
   "execution_count": 11,
   "metadata": {},
   "outputs": [],
   "source": [
    "df['text_processed'] = df['text_processed'].apply(stem_and_lemmatize)\n",
    "# df.head()"
   ]
  },
  {
   "cell_type": "code",
   "execution_count": 12,
   "metadata": {},
   "outputs": [],
   "source": [
    "from nltk.corpus import stopwords\n",
    "def remove_stopwords(l):\n",
    "    \"\"\"\n",
    "    Remove English stopwords from a list of strings.\n",
    "\n",
    "    Args:\n",
    "        l: A list of strings.\n",
    "\n",
    "    Returns:\n",
    "        A list of strings after stop words are removed.\n",
    "    \"\"\"\n",
    "    stop_words = set(stopwords.words('english'))\n",
    "    filtered_words = [word for word in l if word not in stop_words]\n",
    "    \n",
    "    return filtered_words"
   ]
  },
  {
   "cell_type": "code",
   "execution_count": 13,
   "metadata": {},
   "outputs": [
    {
     "data": {
      "text/html": [
       "<div>\n",
       "<style scoped>\n",
       "    .dataframe tbody tr th:only-of-type {\n",
       "        vertical-align: middle;\n",
       "    }\n",
       "\n",
       "    .dataframe tbody tr th {\n",
       "        vertical-align: top;\n",
       "    }\n",
       "\n",
       "    .dataframe thead th {\n",
       "        text-align: right;\n",
       "    }\n",
       "</style>\n",
       "<table border=\"1\" class=\"dataframe\">\n",
       "  <thead>\n",
       "    <tr style=\"text-align: right;\">\n",
       "      <th></th>\n",
       "      <th>target</th>\n",
       "      <th>id</th>\n",
       "      <th>date</th>\n",
       "      <th>flag</th>\n",
       "      <th>user</th>\n",
       "      <th>text</th>\n",
       "      <th>text_processed</th>\n",
       "    </tr>\n",
       "  </thead>\n",
       "  <tbody>\n",
       "    <tr>\n",
       "      <th>0</th>\n",
       "      <td>0</td>\n",
       "      <td>1467810672</td>\n",
       "      <td>Mon Apr 06 22:19:49 PDT 2009</td>\n",
       "      <td>NO_QUERY</td>\n",
       "      <td>scotthamilton</td>\n",
       "      <td>is upset that he can't update his Facebook by ...</td>\n",
       "      <td>[(is, is), (upset, upset), (that, that), (he, ...</td>\n",
       "    </tr>\n",
       "    <tr>\n",
       "      <th>1</th>\n",
       "      <td>0</td>\n",
       "      <td>1467810917</td>\n",
       "      <td>Mon Apr 06 22:19:53 PDT 2009</td>\n",
       "      <td>NO_QUERY</td>\n",
       "      <td>mattycus</td>\n",
       "      <td>@Kenichan I dived many times for the ball. Man...</td>\n",
       "      <td>[(kenichan, kenichan), (i, i), (dive, dived), ...</td>\n",
       "    </tr>\n",
       "    <tr>\n",
       "      <th>2</th>\n",
       "      <td>0</td>\n",
       "      <td>1467811184</td>\n",
       "      <td>Mon Apr 06 22:19:57 PDT 2009</td>\n",
       "      <td>NO_QUERY</td>\n",
       "      <td>ElleCTF</td>\n",
       "      <td>my whole body feels itchy and like its on fire</td>\n",
       "      <td>[(my, my), (whole, whole), (bodi, body), (feel...</td>\n",
       "    </tr>\n",
       "    <tr>\n",
       "      <th>3</th>\n",
       "      <td>0</td>\n",
       "      <td>1467811193</td>\n",
       "      <td>Mon Apr 06 22:19:57 PDT 2009</td>\n",
       "      <td>NO_QUERY</td>\n",
       "      <td>Karoli</td>\n",
       "      <td>@nationwideclass no, it's not behaving at all....</td>\n",
       "      <td>[(nationwideclass, nationwideclass), (no, no),...</td>\n",
       "    </tr>\n",
       "    <tr>\n",
       "      <th>4</th>\n",
       "      <td>0</td>\n",
       "      <td>1467811372</td>\n",
       "      <td>Mon Apr 06 22:20:00 PDT 2009</td>\n",
       "      <td>NO_QUERY</td>\n",
       "      <td>joy_wolf</td>\n",
       "      <td>@Kwesidei not the whole crew</td>\n",
       "      <td>[(kwesidei, kwesidei), (not, not), (the, the),...</td>\n",
       "    </tr>\n",
       "  </tbody>\n",
       "</table>\n",
       "</div>"
      ],
      "text/plain": [
       "   target          id                          date      flag           user  \\\n",
       "0       0  1467810672  Mon Apr 06 22:19:49 PDT 2009  NO_QUERY  scotthamilton   \n",
       "1       0  1467810917  Mon Apr 06 22:19:53 PDT 2009  NO_QUERY       mattycus   \n",
       "2       0  1467811184  Mon Apr 06 22:19:57 PDT 2009  NO_QUERY        ElleCTF   \n",
       "3       0  1467811193  Mon Apr 06 22:19:57 PDT 2009  NO_QUERY         Karoli   \n",
       "4       0  1467811372  Mon Apr 06 22:20:00 PDT 2009  NO_QUERY       joy_wolf   \n",
       "\n",
       "                                                text  \\\n",
       "0  is upset that he can't update his Facebook by ...   \n",
       "1  @Kenichan I dived many times for the ball. Man...   \n",
       "2    my whole body feels itchy and like its on fire    \n",
       "3  @nationwideclass no, it's not behaving at all....   \n",
       "4                      @Kwesidei not the whole crew    \n",
       "\n",
       "                                      text_processed  \n",
       "0  [(is, is), (upset, upset), (that, that), (he, ...  \n",
       "1  [(kenichan, kenichan), (i, i), (dive, dived), ...  \n",
       "2  [(my, my), (whole, whole), (bodi, body), (feel...  \n",
       "3  [(nationwideclass, nationwideclass), (no, no),...  \n",
       "4  [(kwesidei, kwesidei), (not, not), (the, the),...  "
      ]
     },
     "execution_count": 13,
     "metadata": {},
     "output_type": "execute_result"
    }
   ],
   "source": [
    "df['text_processed'] = df['text_processed'].apply(remove_stopwords)\n",
    "df.head()"
   ]
  },
  {
   "cell_type": "markdown",
   "metadata": {},
   "source": [
    "### Creating Bag of Words\n",
    "\n",
    "The purpose of this step is to create a [bag of words](https://en.wikipedia.org/wiki/Bag-of-words_model) from the processed data. The bag of words contains all the unique words in your whole text body (a.k.a. *corpus*) with the number of occurrence of each word. It will allow you to understand which words are the most important features across the whole corpus.\n",
    "\n",
    "Also, you can imagine you will have a massive set of words. The less important words (i.e. those of very low number of occurrence) do not contribute much to the sentiment. Therefore, you only need to use the most important words to build your feature set in the next step. In our case, we will use the top 5,000 words with the highest frequency to build the features.\n",
    "\n",
    "In the cell below, combine all the words in `text_processed` and calculate the frequency distribution of all words. A convenient library to calculate the term frequency distribution is NLTK's `FreqDist` class ([documentation](https://www.nltk.org/api/nltk.html#module-nltk.probability)). Then select the top 5,000 words from the frequency distribution."
   ]
  },
  {
   "cell_type": "code",
   "execution_count": 21,
   "metadata": {},
   "outputs": [
    {
     "name": "stdout",
     "output_type": "stream",
     "text": [
      "[('i', 'i'), ('to', 'to'), ('the', 'the'), ('a', 'a'), ('it', 'it'), ('my', 'my'), ('and', 'and'), ('you', 'you'), ('is', 'is'), ('in', 'in'), ('for', 'for'), ('s', 's'), ('t', 't'), ('of', 'of'), ('on', 'on'), ('that', 'that'), ('me', 'me'), ('so', 'so'), ('have', 'have'), ('m', 'm'), ('but', 'but'), ('just', 'just'), ('with', 'with'), ('be', 'be'), ('at', 'at'), ('not', 'not'), ('day', 'day'), ('wa', 'wa'), ('can', 'can'), ('thi', 'this'), ('now', 'now'), ('good', 'good'), ('up', 'up'), ('get', 'get'), ('all', 'all'), ('out', 'out'), ('like', 'like'), ('are', 'are'), ('no', 'no'), ('go', 'go'), ('quot', 'quot'), ('got', 'got'), ('work', 'work'), ('today', 'today'), ('love', 'love'), ('do', 'do'), ('time', 'time'), ('too', 'too'), ('your', 'your'), ('go', 'going'), ('we', 'we'), ('what', 'what'), ('lol', 'lol'), ('one', 'one'), ('am', 'am'), ('back', 'back'), ('u', 'u'), ('from', 'from'), ('know', 'know'), ('will', 'will'), ('im', 'im'), ('about', 'about'), ('don', 'don'), ('realli', 'really'), ('amp', 'amp'), ('want', 'want'), ('had', 'had'), ('there', 'there'), ('see', 'see'), ('some', 'some'), ('night', 'night'), ('how', 'how'), ('if', 'if'), ('think', 'think'), ('still', 'still'), ('they', 'they'), ('well', 'well'), ('new', 'new'), ('na', 'na'), ('need', 'need'), ('home', 'home'), ('ll', 'll'), ('thank', 'thanks'), ('he', 'he'), ('oh', 'oh'), ('ha', 'ha'), ('when', 'when'), ('as', 'a'), ('miss', 'miss'), ('here', 'here'), ('more', 'more'), ('off', 'off'), ('much', 'much'), ('last', 'last'), ('re', 're'), ('feel', 'feel'), ('an', 'an'), ('morn', 'morning'), ('make', 'make'), ('hope', 'hope'), ('then', 'then'), ('tomorrow', 'tomorrow'), ('twitter', 'twitter'), ('been', 'been'), ('great', 'great'), ('or', 'or'), ('haha', 'haha'), ('her', 'her'), ('again', 'again'), ('wish', 'wish'), ('she', 'she'), ('sad', 'sad'), ('fun', 'fun'), ('come', 'come'), ('whi', 'why'), ('sleep', 'sleep'), ('week', 'week'), ('onli', 'only'), ('right', 'right'), ('bad', 'bad'), ('would', 'would'), ('happi', 'happy'), ('veri', 'very'), ('ve', 've'), ('thing', 'thing'), ('sorri', 'sorry'), ('tonight', 'tonight'), ('friend', 'friend'), ('did', 'did'), ('by', 'by'), ('way', 'way'), ('them', 'them'), ('get', 'getting'), ('gon', 'gon'), ('though', 'though'), ('look', 'look'), ('over', 'over'), ('nice', 'nice'), ('better', 'better'), ('d', 'd'), ('watch', 'watching'), ('should', 'should'), ('say', 'say'), ('yeah', 'yeah'), ('bed', 'bed'), ('wait', 'wait'), ('hate', 'hate'), ('could', 'could'), ('hour', 'hour'), ('school', 'school'), ('peopl', 'people'), ('didn', 'didn'), ('guy', 'guy'), ('him', 'him'), ('weekend', 'weekend'), ('even', 'even'), ('hey', 'hey'), ('after', 'after'), ('show', 'show'), ('who', 'who'), ('take', 'take'), ('ye', 'yes'), ('down', 'down'), ('next', 'next'), ('lt', 'lt'), ('tweet', 'tweet'), ('awesom', 'awesome'), ('dont', 'dont'), ('x', 'x'), ('thank', 'thank'), ('never', 'never'), ('soon', 'soon'), ('were', 'were'), ('cant', 'cant'), ('let', 'let'), ('long', 'long'), ('littl', 'little'), ('work', 'working'), ('life', 'life'), ('first', 'first'), ('wan', 'wan'), ('year', 'year'), ('movi', 'movie'), ('pleas', 'please'), ('best', 'best'), ('girl', 'girl'), ('tire', 'tired'), ('everyon', 'everyone'), ('ok', 'ok'), ('do', 'doing'), ('sick', 'sick'), ('have', 'having'), ('be', 'being'), ('watch', 'watch'), ('feel', 'feeling'), ('hi', 'his'), ('ani', 'any'), ('done', 'done'), ('our', 'our'), ('where', 'where'), ('alway', 'always'), ('sure', 'sure'), ('alreadi', 'already'), ('lot', 'lot'), ('anoth', 'another'), ('cool', 'cool'), ('suck', 'suck'), ('us', 'u'), ('than', 'than'), ('find', 'find'), ('someth', 'something'), ('man', 'man'), ('phone', 'phone'), ('n', 'n'), ('won', 'won'), ('readi', 'ready'), ('made', 'made'), ('yay', 'yay'), ('becaus', 'because'), ('look', 'looking'), ('song', 'song'), ('keep', 'keep'), ('yet', 'yet'), ('hous', 'house'), ('ur', 'ur'), ('went', 'went'), ('ever', 'ever'), ('befor', 'before'), ('hurt', 'hurt'), ('help', 'help'), ('thought', 'thought'), ('pretti', 'pretty'), ('start', 'start'), ('mayb', 'maybe'), ('tri', 'trying'), ('summer', 'summer'), ('away', 'away'), ('omg', 'omg'), ('sound', 'sound'), ('old', 'old'), ('game', 'game'), ('final', 'finally'), ('amaz', 'amazing'), ('earli', 'early'), ('damn', 'damn'), ('someon', 'someone'), ('follow', 'follow'), ('b', 'b'), ('babi', 'baby'), ('guess', 'guess'), ('bit', 'bit'), ('left', 'left'), ('lost', 'lost'), ('rain', 'rain'), ('mean', 'mean'), ('into', 'into'), ('big', 'big'), ('o', 'o'), ('w', 'w'), ('wow', 'wow'), ('hot', 'hot'), ('noth', 'nothing'), ('miss', 'missed'), ('ya', 'ya'), ('same', 'same'), ('tell', 'tell'), ('while', 'while'), ('tri', 'try'), ('bore', 'bored'), ('parti', 'party'), ('pic', 'pic'), ('birthday', 'birthday'), ('live', 'live'), ('other', 'other'), ('glad', 'glad'), ('sun', 'sun'), ('also', 'also'), ('doesn', 'doesn'), ('weather', 'weather'), ('come', 'coming'), ('doe', 'doe'), ('two', 'two'), ('mom', 'mom'), ('th', 'th'), ('later', 'later'), ('play', 'play'), ('stuff', 'stuff'), ('r', 'r'), ('ugh', 'ugh'), ('hear', 'hear'), ('ta', 'ta'), ('actual', 'actually'), ('those', 'those'), ('saw', 'saw'), ('call', 'call'), ('god', 'god'), ('excit', 'excited'), ('exam', 'exam'), ('wait', 'waiting'), ('might', 'might'), ('hard', 'hard'), ('world', 'world'), ('car', 'car'), ('yesterday', 'yesterday'), ('said', 'said'), ('that', 'thats'), ('give', 'give'), ('sinc', 'since'), ('hi', 'hi'), ('until', 'until'), ('job', 'job'), ('head', 'head'), ('late', 'late'), ('few', 'few'), ('sunday', 'sunday'), ('such', 'such'), ('music', 'music'), ('friday', 'friday'), ('myself', 'myself'), ('around', 'around'), ('monday', 'monday'), ('video', 'video'), ('check', 'check'), ('mani', 'many'), ('com', 'com'), ('cold', 'cold'), ('read', 'read'), ('luck', 'luck'), ('must', 'must'), ('talk', 'talk'), ('found', 'found'), ('boy', 'boy'), ('put', 'put'), ('haven', 'haven'), ('beauti', 'beautiful'), ('stop', 'stop'), ('follow', 'follower'), ('their', 'their'), ('end', 'end'), ('aww', 'aww'), ('may', 'may'), ('make', 'making'), ('gone', 'gone'), ('kid', 'kid'), ('miss', 'missing'), ('poor', 'poor'), ('famili', 'family'), ('anyth', 'anything'), ('least', 'least'), ('food', 'food'), ('woke', 'woke'), ('okay', 'okay'), ('hair', 'hair'), ('till', 'till'), ('leav', 'leave'), ('most', 'most'), ('tho', 'tho'), ('almost', 'almost'), ('free', 'free'), ('lunch', 'lunch'), ('cute', 'cute'), ('use', 'use'), ('p', 'p'), ('month', 'month'), ('book', 'book'), ('isn', 'isn'), ('iphon', 'iphone'), ('sweet', 'sweet'), ('far', 'far'), ('listen', 'listening'), ('dinner', 'dinner'), ('eat', 'eat'), ('pictur', 'picture'), ('funni', 'funny'), ('want', 'wanted'), ('c', 'c'), ('class', 'class'), ('enjoy', 'enjoy'), ('shit', 'shit'), ('everyth', 'everything'), ('place', 'place'), ('gt', 'gt'), ('real', 'real'), ('finish', 'finished'), ('anyon', 'anyone'), ('welcom', 'welcome'), ('play', 'playing'), ('believ', 'believe'), ('think', 'thinking'), ('cri', 'cry'), ('forward', 'forward'), ('mine', 'mine'), ('without', 'without'), ('which', 'which'), ('caus', 'cause'), ('everi', 'every'), ('updat', 'update'), ('win', 'win'), ('idea', 'idea'), ('dad', 'dad'), ('hahaha', 'hahaha'), ('total', 'totally'), ('outsid', 'outside'), ('coffe', 'coffee'), ('buy', 'buy'), ('these', 'these'), ('fan', 'fan'), ('stupid', 'stupid'), ('enough', 'enough'), ('dog', 'dog'), ('room', 'room'), ('ill', 'ill'), ('stay', 'stay'), ('wrong', 'wrong'), ('anymor', 'anymore'), ('through', 'through'), ('didnt', 'didnt'), ('xx', 'xx'), ('probabl', 'probably'), ('saturday', 'saturday'), ('dream', 'dream'), ('tv', 'tv'), ('name', 'name'), ('money', 'money'), ('onc', 'once'), ('post', 'post'), ('eat', 'eating'), ('minut', 'minute'), ('busi', 'busy'), ('love', 'lovely'), ('sooo', 'sooo'), ('follow', 'following'), ('headach', 'headache'), ('brother', 'brother'), ('run', 'run'), ('e', 'e'), ('face', 'face'), ('came', 'came'), ('whole', 'whole'), ('beach', 'beach'), ('seen', 'seen'), ('kinda', 'kinda'), ('crazi', 'crazy'), ('take', 'taking'), ('eye', 'eye'), ('mother', 'mother'), ('super', 'super'), ('hope', 'hopefully'), ('word', 'word'), ('final', 'final'), ('both', 'both'), ('hello', 'hello'), ('half', 'half'), ('news', 'news'), ('took', 'took'), ('hell', 'hell'), ('comput', 'computer'), ('pm', 'pm'), ('true', 'true'), ('awww', 'awww'), ('blog', 'blog'), ('meet', 'meet'), ('goodnight', 'goodnight'), ('plan', 'plan'), ('heart', 'heart'), ('rock', 'rock'), ('abl', 'able'), ('forgot', 'forgot'), ('problem', 'problem'), ('hit', 'hit'), ('read', 'reading'), ('ago', 'ago'), ('part', 'part'), ('y', 'y'), ('wasn', 'wasn'), ('photo', 'photo'), ('els', 'else'), ('either', 'either'), ('rest', 'rest'), ('g', 'g'), ('full', 'full'), ('leav', 'leaving'), ('boo', 'boo'), ('shop', 'shopping'), ('sit', 'sitting'), ('ah', 'ah'), ('send', 'send'), ('k', 'k'), ('trip', 'trip'), ('use', 'used'), ('mind', 'mind'), ('soo', 'soo'), ('sister', 'sister'), ('break', 'break'), ('kind', 'kind'), ('cuz', 'cuz'), ('repli', 'reply'), ('offic', 'office'), ('fuck', 'fuck'), ('chang', 'change'), ('couldn', 'couldn'), ('seem', 'seems'), ('alon', 'alone'), ('internet', 'internet'), ('rain', 'raining'), ('rememb', 'remember'), ('link', 'link'), ('talk', 'talking'), ('hug', 'hug'), ('hehe', 'hehe'), ('btw', 'btw'), ('own', 'own'), ('watch', 'watched'), ('tri', 'tried'), ('st', 'st'), ('stuck', 'stuck'), ('heard', 'heard'), ('l', 'l'), ('ticket', 'ticket'), ('cours', 'course'), ('pain', 'pain'), ('care', 'care'), ('site', 'site'), ('www', 'www'), ('start', 'started'), ('drink', 'drink'), ('see', 'seeing'), ('la', 'la'), ('wont', 'wont'), ('onlin', 'online'), ('concert', 'concert'), ('add', 'add'), ('dude', 'dude'), ('cat', 'cat'), ('mileycyru', 'mileycyrus'), ('text', 'text'), ('use', 'using'), ('quit', 'quite'), ('wake', 'wake'), ('nite', 'nite'), ('fine', 'fine'), ('awak', 'awake'), ('season', 'season'), ('breakfast', 'breakfast'), ('person', 'person'), ('email', 'email'), ('love', 'loved'), ('told', 'told'), ('open', 'open'), ('facebook', 'facebook'), ('goe', 'go'), ('bore', 'boring'), ('favorit', 'favorite'), ('serious', 'seriously'), ('til', 'til'), ('sunni', 'sunny'), ('studi', 'study'), ('hand', 'hand'), ('pay', 'pay'), ('ladi', 'lady'), ('lmao', 'lmao'), ('drive', 'drive'), ('shower', 'shower'), ('bought', 'bought'), ('june', 'june'), ('broke', 'broke'), ('lucki', 'lucky'), ('ass', 'as'), ('walk', 'walk'), ('train', 'train'), ('turn', 'turn'), ('call', 'called'), ('start', 'starting'), ('aw', 'aw'), ('red', 'red'), ('asleep', 'asleep'), ('afternoon', 'afternoon'), ('hungri', 'hungry'), ('anyway', 'anyway'), ('crap', 'crap'), ('move', 'move'), ('min', 'min'), ('bring', 'bring'), ('bye', 'bye'), ('sleep', 'sleeping'), ('ice', 'ice'), ('mr', 'mr'), ('head', 'heading'), ('instead', 'instead'), ('test', 'test'), ('xd', 'xd'), ('jealou', 'jealous'), ('reason', 'reason'), ('yea', 'yea'), ('citi', 'city'), ('stori', 'story'), ('page', 'page'), ('bout', 'bout'), ('mad', 'mad'), ('second', 'second'), ('album', 'album'), ('meet', 'meeting'), ('enjoy', 'enjoying'), ('sigh', 'sigh'), ('homework', 'homework'), ('tommcfli', 'tommcfly'), ('high', 'high'), ('star', 'star'), ('wonder', 'wonderful'), ('sore', 'sore'), ('finish', 'finish'), ('hope', 'hoping'), ('top', 'top'), ('set', 'set'), ('definit', 'definitely'), ('cut', 'cut'), ('soooo', 'soooo'), ('run', 'running'), ('togeth', 'together'), ('dead', 'dead'), ('laptop', 'laptop'), ('holiday', 'holiday'), ('dear', 'dear'), ('sometim', 'sometimes'), ('congrat', 'congrats'), ('fail', 'fail'), ('youtub', 'youtube'), ('ask', 'ask'), ('award', 'award'), ('messag', 'message'), ('die', 'died'), ('goin', 'goin'), ('moment', 'moment'), ('coupl', 'couple'), ('fuck', 'fucking'), ('store', 'store'), ('f', 'f'), ('write', 'write'), ('nap', 'nap'), ('happen', 'happened'), ('town', 'town'), ('fall', 'fall'), ('even', 'evening'), ('water', 'water'), ('church', 'church'), ('smile', 'smile'), ('short', 'short'), ('tour', 'tour'), ('side', 'side'), ('tea', 'tea'), ('ipod', 'ipod'), ('visit', 'visit'), ('worri', 'worry'), ('danc', 'dance'), ('point', 'point'), ('ppl', 'ppl'), ('less', 'le'), ('close', 'close'), ('cream', 'cream'), ('perfect', 'perfect'), ('ddlovato', 'ddlovato'), ('line', 'line'), ('lil', 'lil'), ('hr', 'hr'), ('ive', 'ive'), ('weird', 'weird'), ('happen', 'happen'), ('studi', 'studying'), ('gym', 'gym'), ('date', 'date'), ('ride', 'ride'), ('mood', 'mood'), ('list', 'list'), ('wonder', 'wonder'), ('mum', 'mum'), ('listen', 'listen'), ('nd', 'nd'), ('hang', 'hang'), ('love', 'loving'), ('math', 'math'), ('english', 'english'), ('account', 'account'), ('interest', 'interesting'), ('seem', 'seem'), ('co', 'co'), ('catch', 'catch'), ('chocol', 'chocolate'), ('fb', 'fb'), ('da', 'da'), ('clean', 'clean'), ('band', 'band'), ('pool', 'pool'), ('agre', 'agree'), ('ate', 'ate'), ('episod', 'episode'), ('write', 'writing'), ('air', 'air'), ('ahh', 'ahh'), ('knew', 'knew'), ('fast', 'fast'), ('window', 'window'), ('london', 'london'), ('worst', 'worst'), ('broken', 'broken'), ('black', 'black'), ('wed', 'wedding'), ('team', 'team'), ('say', 'saying'), ('flight', 'flight'), ('chanc', 'chance'), ('wish', 'wishing'), ('hmm', 'hmm'), ('park', 'park'), ('sunshin', 'sunshine'), ('uk', 'uk'), ('unfortun', 'unfortunately'), ('three', 'three'), ('throat', 'throat'), ('mac', 'mac'), ('vote', 'vote'), ('yep', 'yep'), ('xxx', 'xxx'), ('jona', 'jonas'), ('worth', 'worth'), ('sat', 'sat'), ('em', 'em'), ('suppos', 'supposed'), ('move', 'moving'), ('pick', 'pick'), ('via', 'via'), ('past', 'past'), ('drive', 'driving'), ('v', 'v'), ('question', 'question'), ('card', 'card'), ('shirt', 'shirt'), ('sleepi', 'sleepy'), ('clean', 'cleaning'), ('blue', 'blue'), ('green', 'green'), ('forget', 'forget'), ('myspac', 'myspace'), ('parent', 'parent'), ('sent', 'sent'), ('number', 'number'), ('comment', 'comment'), ('horribl', 'horrible'), ('gave', 'gave'), ('understand', 'understand'), ('followfriday', 'followfriday'), ('colleg', 'college'), ('j', 'j'), ('tweet', 'tweeting'), ('moon', 'moon'), ('david', 'david'), ('answer', 'answer'), ('drink', 'drinking'), ('cake', 'cake'), ('paper', 'paper'), ('leg', 'leg'), ('tuesday', 'tuesday'), ('project', 'project'), ('beer', 'beer'), ('what', 'whats'), ('websit', 'website'), ('bet', 'bet'), ('wouldn', 'wouldn'), ('h', 'h'), ('slow', 'slow'), ('special', 'special'), ('finger', 'finger'), ('upset', 'upset'), ('wors', 'worse'), ('under', 'under'), ('vacat', 'vacation'), ('easi', 'easy'), ('doesnt', 'doesnt'), ('aren', 'aren'), ('shoe', 'shoe'), ('rather', 'rather'), ('longer', 'longer'), ('fell', 'fell'), ('shop', 'shop'), ('appar', 'apparently'), ('bodi', 'body'), ('scare', 'scared'), ('miley', 'miley'), ('flu', 'flu'), ('wtf', 'wtf'), ('bday', 'bday'), ('mtv', 'mtv'), ('due', 'due'), ('nope', 'nope'), ('white', 'white'), ('spent', 'spent'), ('plu', 'plus'), ('beat', 'beat'), ('wear', 'wear'), ('dress', 'dress'), ('kill', 'kill'), ('huge', 'huge'), ('voic', 'voice'), ('thx', 'thx'), ('cousin', 'cousin'), ('fair', 'fair'), ('forev', 'forever'), ('earlier', 'earlier'), ('babe', 'babe'), ('tom', 'tom'), ('hang', 'hanging'), ('figur', 'figure'), ('ahhh', 'ahhh'), ('spend', 'spend'), ('load', 'load'), ('wonder', 'wondering'), ('join', 'join'), ('thursday', 'thursday'), ('sim', 'sims'), ('shame', 'shame'), ('support', 'support'), ('light', 'light'), ('laugh', 'laugh'), ('bu', 'bus'), ('cheer', 'cheer'), ('yr', 'yr'), ('lazi', 'lazy'), ('shot', 'shot'), ('chat', 'chat'), ('camera', 'camera'), ('idk', 'idk'), ('power', 'power'), ('cd', 'cd'), ('son', 'son'), ('appl', 'apple'), ('especi', 'especially'), ('slept', 'slept'), ('dm', 'dm'), ('boyfriend', 'boyfriend'), ('stomach', 'stomach'), ('juli', 'july'), ('dure', 'during'), ('si', 'si'), ('age', 'age'), ('garden', 'garden'), ('googl', 'google'), ('warm', 'warm'), ('sadli', 'sadly'), ('die', 'die'), ('sign', 'sign'), ('radio', 'radio'), ('learn', 'learn'), ('bike', 'bike'), ('insid', 'inside'), ('fix', 'fix'), ('father', 'father'), ('airport', 'airport'), ('look', 'looked'), ('differ', 'different'), ('luv', 'luv'), ('pizza', 'pizza'), ('jonasbroth', 'jonasbrothers'), ('havent', 'havent'), ('bbq', 'bbq'), ('road', 'road'), ('case', 'case'), ('yummi', 'yummy'), ('club', 'club'), ('servic', 'service'), ('save', 'save'), ('meant', 'meant'), ('small', 'small'), ('met', 'met'), ('chicken', 'chicken'), ('box', 'box'), ('safe', 'safe'), ('hill', 'hill'), ('graduat', 'graduation'), ('ps', 'p'), ('raini', 'rainy'), ('film', 'film'), ('note', 'note'), ('like', 'liked'), ('offici', 'officially'), ('order', 'order'), ('bitch', 'bitch'), ('tummi', 'tummy'), ('except', 'except'), ('twilight', 'twilight'), ('fli', 'fly'), ('doctor', 'doctor'), ('hubbi', 'hubby'), ('hospit', 'hospital'), ('absolut', 'absolutely'), ('cup', 'cup'), ('share', 'share'), ('yo', 'yo'), ('work', 'worked'), ('felt', 'felt'), ('shall', 'shall'), ('proud', 'proud'), ('wine', 'wine'), ('goodby', 'goodbye'), ('decid', 'decided'), ('alright', 'alright'), ('yourself', 'yourself'), ('ma', 'ma'), ('each', 'each'), ('need', 'needed'), ('storm', 'storm'), ('xoxo', 'xoxo'), ('fact', 'fact'), ('pink', 'pink'), ('lone', 'lonely'), ('gorgeou', 'gorgeous'), ('yup', 'yup'), ('wednesday', 'wednesday'), ('wit', 'wit'), ('mail', 'mail'), ('dvd', 'dvd'), ('annoy', 'annoying'), ('play', 'played'), ('woo', 'woo'), ('issu', 'issue'), ('glass', 'glass'), ('bag', 'bag'), ('excit', 'exciting'), ('lame', 'lame'), ('hmmm', 'hmmm'), ('exactli', 'exactly'), ('interview', 'interview'), ('bar', 'bar'), ('front', 'front'), ('live', 'living'), ('compani', 'company'), ('busi', 'business'), ('feet', 'foot'), ('french', 'french'), ('taken', 'taken'), ('nick', 'nick'), ('bro', 'bro'), ('ouch', 'ouch'), ('pack', 'packing'), ('scari', 'scary'), ('art', 'art'), ('near', 'near'), ('mile', 'mile'), ('touch', 'touch'), ('ball', 'ball'), ('smell', 'smell'), ('drunk', 'drunk'), ('ju', 'jus'), ('turn', 'turned'), ('daughter', 'daughter'), ('happen', 'happens'), ('mommi', 'mommy'), ('isnt', 'isnt'), ('download', 'download'), ('behind', 'behind'), ('guitar', 'guitar'), ('version', 'version'), ('realiz', 'realized'), ('mate', 'mate'), ('vega', 'vega'), ('everybodi', 'everybody'), ('whatev', 'whatever'), ('pass', 'pas'), ('ear', 'ear'), ('sold', 'sold'), ('door', 'door'), ('gettin', 'gettin'), ('web', 'web'), ('wake', 'waking'), ('round', 'round'), ('state', 'state'), ('cloth', 'clothes'), ('although', 'although'), ('tear', 'tear'), ('your', 'yours'), ('hangov', 'hangover'), ('bb', 'bb'), ('puppi', 'puppy'), ('app', 'app'), ('singl', 'single'), ('relax', 'relaxing'), ('matter', 'matter'), ('event', 'event'), ('walk', 'walking'), ('lose', 'lose'), ('kill', 'killing'), ('deal', 'deal'), ('wife', 'wife'), ('give', 'giving'), ('random', 'random'), ('hold', 'hold'), ('along', 'along'), ('sale', 'sale'), ('laker', 'lakers'), ('countri', 'country'), ('revis', 'revision'), ('alot', 'alot'), ('plane', 'plane'), ('hahah', 'hahah'), ('terribl', 'terrible'), ('self', 'self'), ('arm', 'arm'), ('shoot', 'shoot'), ('kiss', 'kiss'), ('hotel', 'hotel'), ('enjoy', 'enjoyed'), ('cook', 'cook'), ('fantast', 'fantastic'), ('tast', 'taste'), ('post', 'posted'), ('group', 'group'), ('sit', 'sit'), ('dark', 'dark'), ('eh', 'eh'), ('peac', 'peace'), ('pass', 'passed'), ('ahead', 'ahead'), ('chri', 'chris'), ('bird', 'bird'), ('de', 'de'), ('stay', 'staying'), ('huh', 'huh'), ('ohh', 'ohh'), ('ff', 'ff'), ('sing', 'singing'), ('hun', 'hun'), ('gosh', 'gosh'), ('histori', 'history'), ('drop', 'drop'), ('inde', 'indeed'), ('ask', 'asked'), ('death', 'death'), ('pc', 'pc'), ('fit', 'fit'), ('bum', 'bummed'), ('late', 'lately'), ('aint', 'aint'), ('camp', 'camp'), ('die', 'dying'), ('fml', 'fml'), ('daddi', 'daddy'), ('angel', 'angel'), ('vip', 'vip'), ('buddi', 'buddy'), ('xo', 'xo'), ('john', 'john'), ('extra', 'extra'), ('head', 'headed'), ('profil', 'profile'), ('upload', 'upload'), ('complet', 'completely'), ('nobodi', 'nobody'), ('taylor', 'taylor'), ('street', 'street'), ('type', 'type'), ('fat', 'fat'), ('chees', 'cheese'), ('current', 'currently'), ('sing', 'sing'), ('usual', 'usually'), ('between', 'between'), ('chang', 'changed'), ('freak', 'freaking'), ('bug', 'bug'), ('bloodi', 'bloody'), ('disappoint', 'disappointed'), ('sexi', 'sexy'), ('kick', 'kick'), ('sky', 'sky'), ('traffic', 'traffic'), ('aw', 'awful'), ('yum', 'yum'), ('fire', 'fire'), ('wear', 'wearing'), ('seriou', 'serious'), ('joke', 'joke'), ('memori', 'memory'), ('worri', 'worried'), ('gay', 'gay'), ('record', 'record'), ('tweetdeck', 'tweetdeck'), ('nyc', 'nyc'), ('low', 'low'), ('blood', 'blood'), ('ach', 'ache'), ('jon', 'jon'), ('quick', 'quick'), ('kate', 'kate'), ('men', 'men'), ('troubl', 'trouble'), ('ran', 'ran'), ('nose', 'nose'), ('magic', 'magic'), ('exhaust', 'exhausted'), ('other', 'others'), ('watchin', 'watchin'), ('track', 'track'), ('rd', 'rd'), ('info', 'info'), ('somewher', 'somewhere'), ('joe', 'joe'), ('mcfli', 'mcfly'), ('piss', 'pissed'), ('itun', 'itunes'), ('nearli', 'nearly'), ('coz', 'coz'), ('spend', 'spending'), ('caught', 'caught'), ('mall', 'mall'), ('ooh', 'ooh'), ('screen', 'screen'), ('chillin', 'chillin'), ('dunno', 'dunno'), ('dang', 'dang'), ('awwww', 'awwww'), ('fix', 'fixed'), ('close', 'closed'), ('sort', 'sort'), ('fever', 'fever'), ('bill', 'bill'), ('fam', 'fam'), ('blah', 'blah'), ('appreci', 'appreciate'), ('young', 'young'), ('nail', 'nail'), ('def', 'def'), ('silli', 'silly'), ('mark', 'mark'), ('choic', 'choice'), ('brain', 'brain'), ('futur', 'future'), ('end', 'ended'), ('rip', 'rip'), ('fight', 'fight'), ('mmm', 'mmm'), ('result', 'result'), ('channel', 'channel'), ('cover', 'cover'), ('lesson', 'lesson'), ('husband', 'husband'), ('blackberri', 'blackberry'), ('gig', 'gig'), ('ny', 'ny'), ('stop', 'stopped'), ('adam', 'adam'), ('demi', 'demi'), ('peep', 'peep'), ('practic', 'practice'), ('doubl', 'double'), ('design', 'design'), ('stand', 'stand'), ('sooooo', 'sooooo'), ('none', 'none'), ('joy', 'joy'), ('tan', 'tan'), ('kitti', 'kitty'), ('woman', 'woman'), ('wat', 'wat'), ('nah', 'nah'), ('roll', 'roll'), ('heat', 'heat'), ('mention', 'mention'), ('etc', 'etc'), ('congratul', 'congratulation'), ('train', 'training'), ('king', 'king'), ('dr', 'dr'), ('bummer', 'bummer'), ('plz', 'plz'), ('bank', 'bank'), ('background', 'background'), ('swim', 'swimming'), ('argh', 'argh'), ('possibl', 'possible'), ('twit', 'twit'), ('danc', 'dancing'), ('plan', 'planning'), ('normal', 'normal'), ('confus', 'confused'), ('pray', 'pray'), ('hilari', 'hilarious'), ('chill', 'chill'), ('trailer', 'trailer'), ('lay', 'laying'), ('starbuck', 'starbucks'), ('bless', 'bless'), ('honey', 'honey'), ('shut', 'shut'), ('doin', 'doin'), ('piec', 'piece'), ('pop', 'pop'), ('american', 'american'), ('middl', 'middle'), ('often', 'often'), ('quiet', 'quiet'), ('call', 'calling'), ('thru', 'thru'), ('pack', 'pack'), ('major', 'major'), ('doubt', 'doubt'), ('teeth', 'teeth'), ('fish', 'fish'), ('wet', 'wet'), ('fail', 'failed'), ('seri', 'series'), ('franc', 'france'), ('race', 'race'), ('lie', 'lie'), ('degre', 'degree'), ('uh', 'uh'), ('foot', 'foot'), ('mobil', 'mobile'), ('ms', 'm'), ('key', 'key'), ('fav', 'fav'), ('stick', 'stick'), ('trek', 'trek'), ('folk', 'folk'), ('hasn', 'hasn'), ('search', 'search'), ('id', 'id'), ('straight', 'straight'), ('view', 'view'), ('burnt', 'burnt'), ('usual', 'usual'), ('fresh', 'fresh'), ('laundri', 'laundry'), ('epic', 'epic'), ('couldnt', 'couldnt'), ('ring', 'ring'), ('badli', 'badly'), ('dentist', 'dentist'), ('war', 'war'), ('shift', 'shift'), ('tip', 'tip'), ('shout', 'shout'), ('australia', 'australia'), ('drop', 'dropped'), ('count', 'count'), ('learn', 'learning'), ('put', 'putting'), ('send', 'sending'), ('step', 'step'), ('speak', 'speak'), ('review', 'review'), ('law', 'law'), ('gut', 'gutted'), ('promis', 'promise'), ('pre', 'pre'), ('paid', 'paid'), ('session', 'session'), ('copi', 'copy'), ('hahahaha', 'hahahaha'), ('avail', 'available'), ('gift', 'gift'), ('she', 'shes'), ('suppos', 'suppose'), ('return', 'return'), ('sum', 'sum'), ('four', 'four'), ('chicago', 'chicago'), ('prob', 'prob'), ('south', 'south'), ('cancel', 'cancelled'), ('davidarchi', 'davidarchie'), ('anyway', 'anyways'), ('mama', 'mama'), ('milk', 'milk'), ('knee', 'knee'), ('wasnt', 'wasnt'), ('fall', 'falling'), ('sell', 'sell'), ('wall', 'wall'), ('feelin', 'feelin'), ('area', 'area'), ('topic', 'topic'), ('check', 'checking'), ('help', 'helping'), ('contact', 'contact'), ('report', 'report'), ('button', 'button'), ('cell', 'cell'), ('hannah', 'hannah'), ('mess', 'mess'), ('mouth', 'mouth'), ('msn', 'msn'), ('yall', 'yall'), ('prom', 'prom'), ('depress', 'depressed'), ('secret', 'secret'), ('experi', 'experience'), ('woot', 'woot'), ('shouldn', 'shouldn'), ('burn', 'burn'), ('bf', 'bf'), ('code', 'code'), ('ain', 'ain'), ('kid', 'kidding'), ('nervou', 'nervous'), ('bunch', 'bunch'), ('price', 'price'), ('studio', 'studio'), ('darn', 'darn'), ('teacher', 'teacher'), ('net', 'net'), ('match', 'match'), ('afraid', 'afraid'), ('favourit', 'favourite'), ('egg', 'egg'), ('five', 'five'), ('ask', 'asking'), ('articl', 'article'), ('san', 'san'), ('space', 'space'), ('jack', 'jack'), ('keep', 'keeping'), ('find', 'finding'), ('batteri', 'battery'), ('lake', 'lake'), ('blast', 'blast'), ('sens', 'sense'), ('donniewahlberg', 'donniewahlberg'), ('cri', 'cried'), ('kill', 'killed'), ('ton', 'ton'), ('present', 'present'), ('travel', 'travel'), ('swine', 'swine'), ('move', 'moved'), ('jame', 'james'), ('twitter', 'twittering'), ('somebodi', 'somebody'), ('everyday', 'everyday'), ('color', 'color'), ('thanx', 'thanx'), ('kno', 'kno'), ('tree', 'tree'), ('midnight', 'midnight'), ('buy', 'buying'), ('becom', 'become'), ('tweep', 'tweeps'), ('complet', 'complete'), ('dnt', 'dnt'), ('rob', 'rob'), ('holi', 'holy'), ('germani', 'germany'), ('lose', 'losing'), ('happen', 'happening'), ('block', 'block'), ('unless', 'unless'), ('danni', 'danny'), ('arriv', 'arrived'), ('vs', 'v'), ('mo', 'mo'), ('non', 'non'), ('howev', 'however'), ('system', 'system'), ('hero', 'hero'), ('chip', 'chip'), ('board', 'board'), ('freakin', 'freakin'), ('station', 'station'), ('floor', 'floor'), ('anywher', 'anywhere'), ('check', 'checked'), ('workout', 'workout'), ('tell', 'telling'), ('sarah', 'sarah'), ('invit', 'invite'), ('spot', 'spot'), ('gotten', 'gotten'), ('client', 'client'), ('grandma', 'grandma'), ('expens', 'expensive'), ('updat', 'updated'), ('island', 'island'), ('surpris', 'surprise'), ('matt', 'matt'), ('row', 'row'), ('against', 'against'), ('jb', 'jb'), ('depress', 'depressing'), ('jonathanrknight', 'jonathanrknight'), ('follow', 'followed'), ('delici', 'delicious'), ('machin', 'machine'), ('seat', 'seat'), ('august', 'august'), ('sam', 'sam'), ('bath', 'bath'), ('ima', 'ima'), ('energi', 'energy'), ('sex', 'sex'), ('essay', 'essay'), ('show', 'showing'), ('ng', 'ng'), ('afford', 'afford'), ('cough', 'cough'), ('alex', 'alex'), ('pl', 'pls'), ('relax', 'relax'), ('mini', 'mini'), ('neck', 'neck'), ('outta', 'outta'), ('student', 'student'), ('cooki', 'cooky'), ('bottl', 'bottle'), ('brazil', 'brazil'), ('jay', 'jay'), ('releas', 'release'), ('crappi', 'crappy'), ('offici', 'official'), ('oop', 'oops'), ('twice', 'twice'), ('import', 'important'), ('cook', 'cooking'), ('prayer', 'prayer'), ('social', 'social'), ('tonit', 'tonite'), ('crash', 'crash'), ('posit', 'positive'), ('librari', 'library'), ('assign', 'assignment'), ('begin', 'begin'), ('disney', 'disney'), ('allow', 'allowed'), ('brought', 'brought'), ('mike', 'mike'), ('spring', 'spring'), ('boss', 'bos'), ('server', 'server'), ('throw', 'throw'), ('sweeti', 'sweetie'), ('bear', 'bear'), ('player', 'player'), ('ad', 'added'), ('wrote', 'wrote'), ('jk', 'jk'), ('local', 'local'), ('america', 'america'), ('want', 'wanting'), ('um', 'um'), ('scienc', 'science'), ('talk', 'talked'), ('style', 'style'), ('stay', 'stayed'), ('sushi', 'sushi'), ('gunna', 'gunna'), ('feed', 'feed'), ('imagin', 'imagine'), ('empti', 'empty'), ('ad', 'ad'), ('charact', 'character'), ('final', 'finale'), ('girlfriend', 'girlfriend'), ('uni', 'uni'), ('bright', 'bright'), ('england', 'england'), ('xbox', 'xbox'), ('level', 'level'), ('stress', 'stress'), ('mi', 'mi'), ('michael', 'michael'), ('land', 'land'), ('quot', 'quote'), ('sometim', 'sometime'), ('thunder', 'thunder'), ('flower', 'flower'), ('excel', 'excellent'), ('simpl', 'simple'), ('woohoo', 'woohoo'), ('dat', 'dat'), ('grad', 'grad'), ('drama', 'drama'), ('fave', 'fave'), ('brown', 'brown'), ('toe', 'toe'), ('couch', 'couch'), ('mornin', 'mornin'), ('oooh', 'oooh'), ('er', 'er'), ('bite', 'bite'), ('offer', 'offer'), ('ador', 'adorable'), ('jordanknight', 'jordanknight'), ('aliv', 'alive'), ('soup', 'soup'), ('notic', 'noticed'), ('vid', 'vid'), ('pant', 'pant'), ('butt', 'butt'), ('wii', 'wii'), ('ish', 'ish'), ('media', 'medium'), ('bff', 'bff'), ('pick', 'picked'), ('boat', 'boat'), ('york', 'york'), ('rule', 'rule'), ('tough', 'tough'), ('everywher', 'everywhere'), ('flat', 'flat'), ('west', 'west'), ('entir', 'entire'), ('women', 'woman'), ('kitchen', 'kitchen'), ('pari', 'paris'), ('canada', 'canada'), ('bc', 'bc'), ('swear', 'swear'), ('trust', 'trust'), ('loud', 'loud'), ('cost', 'cost'), ('end', 'ending'), ('size', 'size'), ('fake', 'fake'), ('tune', 'tune'), ('harri', 'harry'), ('weight', 'weight'), ('million', 'million'), ('mitchelmusso', 'mitchelmusso'), ('sport', 'sport'), ('hoo', 'hoo'), ('kept', 'kept'), ('jason', 'jason'), ('catch', 'catching'), ('dc', 'dc'), ('person', 'personal'), ('stage', 'stage'), ('anim', 'animal'), ('apart', 'apartment'), ('file', 'file'), ('bare', 'barely'), ('pro', 'pro'), ('fli', 'flying'), ('fabul', 'fabulous'), ('product', 'productive'), ('strawberri', 'strawberry'), ('laugh', 'laughing'), ('perhap', 'perhaps'), ('marathon', 'marathon'), ('cupcak', 'cupcake'), ('crave', 'craving'), ('cloud', 'cloud'), ('connect', 'connection'), ('skin', 'skin'), ('diet', 'diet'), ('ohhh', 'ohhh'), ('lay', 'lay'), ('evil', 'evil'), ('strong', 'strong'), ('deserv', 'deserve'), ('hurt', 'hurting'), ('tweet', 'tweeted'), ('loss', 'loss'), ('dammit', 'dammit'), ('sir', 'sir'), ('ed', 'ed'), ('morrow', 'morrow'), ('schedul', 'schedule'), ('brilliant', 'brilliant'), ('ahhhh', 'ahhhh'), ('chines', 'chinese'), ('festiv', 'festival'), ('imma', 'imma'), ('let', 'letting'), ('hav', 'hav'), ('chick', 'chick'), ('wave', 'wave'), ('good', 'goodness'), ('break', 'breaking'), ('strang', 'strange'), ('juic', 'juice'), ('ryan', 'ryan'), ('tha', 'tha'), ('order', 'ordered'), ('ugli', 'ugly'), ('easier', 'easier'), ('bgt', 'bgt'), ('share', 'sharing'), ('taylorswift', 'taylorswift'), ('texa', 'texas'), ('nightmar', 'nightmare'), ('click', 'click'), ('spam', 'spam'), ('market', 'market'), ('somehow', 'somehow'), ('surgeri', 'surgery'), ('mix', 'mix'), ('sa', 'sa'), ('annoy', 'annoyed'), ('dri', 'dry'), ('wing', 'wing'), ('form', 'form'), ('pleasur', 'pleasure'), ('grey', 'grey'), ('desk', 'desk'), ('ili', 'ily'), ('allergi', 'allergy'), ('atm', 'atm'), ('pet', 'pet'), ('dave', 'dave'), ('six', 'six'), ('talent', 'talent'), ('heheh', 'hehehe'), ('lord', 'lord'), ('squarespac', 'squarespace'), ('realiz', 'realize'), ('hah', 'hah'), ('gah', 'gah'), ('marri', 'married'), ('orang', 'orange'), ('dumb', 'dumb'), ('addict', 'addicted'), ('heh', 'heh'), ('spanish', 'spanish'), ('children', 'child'), ('winter', 'winter'), ('lack', 'lack'), ('anytim', 'anytime'), ('clear', 'clear'), ('wash', 'wash'), ('os', 'o'), ('tabl', 'table'), ('option', 'option'), ('tweeter', 'tweeter'), ('plan', 'planned'), ('figur', 'figured'), ('footbal', 'football'), ('nooo', 'nooo'), ('credit', 'credit'), ('pair', 'pair'), ('hat', 'hat'), ('cali', 'cali'), ('suggest', 'suggestion'), ('dj', 'dj'), ('realiti', 'reality'), ('lookin', 'lookin'), ('soccer', 'soccer'), ('apart', 'apart'), ('given', 'given'), ('ben', 'ben'), ('total', 'total'), ('swim', 'swim'), ('andi', 'andy'), ('boston', 'boston'), ('control', 'control'), ('extrem', 'extremely'), ('notic', 'notice'), ('grrr', 'grrr'), ('queen', 'queen'), ('tattoo', 'tattoo'), ('possibl', 'possibly'), ('grade', 'grade'), ('fault', 'fault'), ('imag', 'image'), ('florida', 'florida'), ('across', 'across'), ('child', 'child'), ('mess', 'messed'), ('shine', 'shining'), ('jam', 'jam'), ('angri', 'angry'), ('north', 'north'), ('bread', 'bread'), ('difficult', 'difficult'), ('manag', 'managed'), ('mon', 'mon'), ('rough', 'rough'), ('daili', 'daily'), ('soul', 'soul'), ('clock', 'clock'), ('public', 'public'), ('interest', 'interested'), ('set', 'setting'), ('act', 'act'), ('workin', 'workin'), ('user', 'user'), ('sign', 'signed'), ('live', 'life'), ('accid', 'accident'), ('revis', 'revising'), ('aunt', 'aunt'), ('finish', 'finishing'), ('post', 'posting'), ('blow', 'blow'), ('sunburn', 'sunburn'), ('smart', 'smart'), ('z', 'z'), ('doc', 'doc'), ('ruin', 'ruined'), ('vote', 'voted'), ('turn', 'turning'), ('blame', 'blame'), ('limit', 'limit'), ('drag', 'drag'), ('onto', 'onto'), ('truli', 'truly'), ('driver', 'driver'), ('paul', 'paul'), ('how', 'hows'), ('nasti', 'nasty'), ('ughh', 'ughh'), ('ashley', 'ashley'), ('advic', 'advice'), ('pa', 'pa'), ('wast', 'waste'), ('hear', 'hearing'), ('sandwich', 'sandwich'), ('your', 'youre'), ('mmmm', 'mmmm'), ('weren', 'weren'), ('shitti', 'shitty'), ('mostli', 'mostly'), ('salad', 'salad'), ('uncl', 'uncle'), ('gr', 'gr'), ('sugar', 'sugar'), ('toy', 'toy'), ('awhil', 'awhile'), ('earth', 'earth'), ('cheap', 'cheap'), ('paint', 'painting'), ('lmfao', 'lmfao'), ('scene', 'scene'), ('live', 'lived'), ('mm', 'mm'), ('walk', 'walked'), ('direct', 'direct'), ('fuckin', 'fuckin'), ('block', 'blocked'), ('alarm', 'alarm'), ('lauren', 'lauren'), ('noooo', 'noooo'), ('program', 'program'), ('smh', 'smh'), ('latest', 'latest'), ('lip', 'lip'), ('bless', 'blessed'), ('confer', 'conference'), ('model', 'model'), ('transform', 'transformer'), ('trend', 'trending'), ('chill', 'chilling'), ('fuck', 'fucked'), ('decid', 'decide'), ('heavi', 'heavy'), ('letter', 'letter'), ('learn', 'learned'), ('upgrad', 'upgrade'), ('cabl', 'cable'), ('meal', 'meal'), ('fab', 'fab'), ('leav', 'leaf'), ('shoulder', 'shoulder'), ('twitpic', 'twitpic'), ('conan', 'conan'), ('wind', 'wind'), ('access', 'access'), ('begin', 'beginning'), ('otherwis', 'otherwise'), ('hors', 'horse'), ('abt', 'abt'), ('pull', 'pulled'), ('jean', 'jean'), ('coast', 'coast'), ('excus', 'excuse'), ('celebr', 'celebrate'), ('network', 'network'), ('biggest', 'biggest'), ('kevin', 'kevin'), ('pen', 'pen'), ('ex', 'ex'), ('term', 'term'), ('comp', 'comp'), ('healthi', 'healthy'), ('dirti', 'dirty'), ('expect', 'expect'), ('join', 'joined'), ('aha', 'aha'), ('member', 'member'), ('cross', 'crossed'), ('contest', 'contest'), ('human', 'human'), ('macbook', 'macbook'), ('build', 'building'), ('remind', 'reminds'), ('pull', 'pull'), ('error', 'error'), ('taco', 'taco'), ('susan', 'susan'), ('statu', 'status'), ('grow', 'grow'), ('wee', 'wee'), ('updat', 'updating'), ('hole', 'hole'), ('anybodi', 'anybody'), ('heck', 'heck'), ('perform', 'performance'), ('ch', 'ch'), ('nut', 'nut'), ('divers', 'diversity'), ('attent', 'attention'), ('basebal', 'baseball'), ('goodmorn', 'goodmorning'), ('grand', 'grand'), ('pray', 'praying'), ('vet', 'vet'), ('quit', 'quit'), ('liter', 'literally'), ('jesu', 'jesus'), ('slightli', 'slightly'), ('deep', 'deep'), ('present', 'presentation'), ('closer', 'closer'), ('golf', 'golf'), ('boot', 'boot'), ('pain', 'painful'), ('yard', 'yard'), ('obvious', 'obviously'), ('ankl', 'ankle'), ('detail', 'detail'), ('handl', 'handle'), ('mistak', 'mistake'), ('bee', 'bee'), ('princess', 'princess'), ('score', 'score'), ('attack', 'attack'), ('truck', 'truck'), ('brand', 'brand'), ('toast', 'toast'), ('montana', 'montana'), ('everytim', 'everytime'), ('jump', 'jump'), ('killer', 'killer'), ('gross', 'gross'), ('tht', 'tht'), ('txt', 'txt'), ('banana', 'banana'), ('ing', 'ing'), ('app', 'apps'), ('decis', 'decision'), ('snow', 'snow'), ('action', 'action'), ('hella', 'hella'), ('origin', 'original'), ('german', 'german'), ('know', 'knowing'), ('convers', 'conversation'), ('asap', 'asap'), ('idol', 'idol'), ('lovin', 'lovin'), ('shake', 'shake'), ('ty', 'ty'), ('massiv', 'massive'), ('sydney', 'sydney'), ('older', 'older'), ('open', 'opening'), ('famou', 'famous'), ('california', 'california'), ('rid', 'rid'), ('paint', 'paint'), ('qualiti', 'quality'), ('grr', 'grr'), ('ca', 'ca'), ('senior', 'senior'), ('treat', 'treat'), ('third', 'third'), ('theme', 'theme'), ('pancak', 'pancake'), ('ten', 'ten'), ('kelli', 'kelly'), ('tenni', 'tennis'), ('delet', 'deleted'), ('candi', 'candy'), ('ray', 'ray'), ('q', 'q'), ('ow', 'ow'), ('act', 'acting'), ('kick', 'kicked'), ('request', 'request'), ('wide', 'wide'), ('tini', 'tiny'), ('wed', 'wed'), ('smoke', 'smoke'), ('freez', 'freezing'), ('east', 'east'), ('hurri', 'hurry'), ('rose', 'rose'), ('quickli', 'quickly'), ('atl', 'atl'), ('tweeteradd', 'tweeteradder'), ('surpris', 'surprised'), ('softwar', 'software'), ('classic', 'classic'), ('goal', 'goal'), ('featur', 'feature'), ('eaten', 'eaten'), ('awe', 'awe'), ('crack', 'crack'), ('restaur', 'restaurant'), ('fellow', 'fellow'), ('le', 'le'), ('crash', 'crashed'), ('dollar', 'dollar'), ('teach', 'teach'), ('cuddl', 'cuddle'), ('stress', 'stressed'), ('neither', 'neither'), ('ami', 'amy'), ('groceri', 'grocery'), ('burger', 'burger'), ('fight', 'fighting'), ('idiot', 'idiot'), ('recent', 'recently'), ('like', 'liking'), ('kitten', 'kitten'), ('known', 'known'), ('europ', 'europe'), ('soooooo', 'soooooo'), ('pack', 'packed'), ('health', 'health'), ('bunni', 'bunny'), ('prefer', 'prefer'), ('heaven', 'heaven'), ('selenagomez', 'selenagomez'), ('fed', 'fed'), ('med', 'med'), ('dougiemcfli', 'dougiemcfly'), ('al', 'al'), ('sea', 'sea'), ('migrain', 'migraine'), ('ti', 'ti'), ('rice', 'rice'), ('count', 'counting'), ('bacon', 'bacon'), ('haircut', 'haircut'), ('el', 'el'), ('steve', 'steve'), ('neighbor', 'neighbor'), ('tech', 'tech'), ('max', 'max'), ('custom', 'customer'), ('hardli', 'hardly'), ('meh', 'meh'), ('cash', 'cash'), ('ga', 'gas'), ('cancer', 'cancer'), ('tix', 'tix'), ('cross', 'cross'), ('center', 'center'), ('slowli', 'slowly'), ('josh', 'josh'), ('field', 'field'), ('pie', 'pie'), ('twin', 'twin'), ('suck', 'sucked'), ('success', 'success'), ('fear', 'fear'), ('tooth', 'tooth'), ('visit', 'visiting'), ('ride', 'riding'), ('bay', 'bay'), ('cloudi', 'cloudy'), ('ac', 'ac'), ('sux', 'sux'), ('kati', 'katie'), ('properli', 'properly'), ('fri', 'fry'), ('effect', 'effect'), ('aim', 'aim'), ('realis', 'realised'), ('main', 'main'), ('loser', 'loser'), ('downtown', 'downtown'), ('charg', 'charge'), ('upload', 'uploading'), ('geek', 'geek'), ('ftw', 'ftw'), ('test', 'testing'), ('choos', 'choose'), ('decent', 'decent'), ('toni', 'tony'), ('download', 'downloading'), ('ahaha', 'ahaha'), ('bean', 'bean'), ('wash', 'washing'), ('honestli', 'honestly'), ('rememb', 'remembered'), ('commerci', 'commercial'), ('pick', 'picking'), ('fill', 'filled'), ('plant', 'plant'), ('iran', 'iran'), ('cav', 'cavs'), ('britney', 'britney'), ('chuck', 'chuck'), ('yah', 'yah'), ('pay', 'paying'), ('anniversari', 'anniversary'), ('truth', 'truth'), ('rite', 'rite'), ('situat', 'situation'), ('booo', 'booo'), ('beta', 'beta'), ('havin', 'havin'), ('text', 'texting'), ('dish', 'dish'), ('forum', 'forum'), ('justin', 'justin'), ('nation', 'national'), ('missin', 'missin'), ('ii', 'ii'), ('fm', 'fm'), ('purpl', 'purple'), ('adventur', 'adventure'), ('dress', 'dressed'), ('rent', 'rent'), ('lead', 'lead'), ('certain', 'certain'), ('mountain', 'mountain'), ('record', 'recording'), ('winner', 'winner'), ('xxxx', 'xxxx'), ('win', 'winning'), ('invit', 'invited'), ('ew', 'ew'), ('thankyou', 'thankyou'), ('shine', 'shine'), ('miami', 'miami'), ('bathroom', 'bathroom'), ('reach', 'reach'), ('bone', 'bone'), ('chair', 'chair'), ('museum', 'museum'), ('prepar', 'preparing'), ('thunderstorm', 'thunderstorm'), ('ho', 'ho'), ('orlando', 'orlando'), ('usa', 'usa'), ('expect', 'expected'), ('born', 'born'), ('proper', 'proper'), ('help', 'helped'), ('bedtim', 'bedtime'), ('artist', 'artist'), ('grow', 'growing'), ('monkey', 'monkey'), ('tryin', 'tryin'), ('bell', 'bell'), ('umm', 'umm'), ('peter', 'peter'), ('impress', 'impressed'), ('potter', 'potter'), ('avatar', 'avatar'), ('lie', 'lying'), ('whenev', 'whenever'), ('instal', 'install'), ('corner', 'corner'), ('doll', 'doll'), ('certainli', 'certainly'), ('ko', 'ko'), ('screw', 'screwed'), ('rubbish', 'rubbish'), ('dan', 'dan'), ('yeh', 'yeh'), ('gb', 'gb'), ('bigger', 'bigger'), ('smile', 'smiling'), ('pub', 'pub'), ('coke', 'coke'), ('magazin', 'magazine'), ('receiv', 'received'), ('appoint', 'appointment'), ('fashion', 'fashion'), ('peterfacinelli', 'peterfacinelli'), ('philippin', 'philippine'), ('respons', 'response'), ('wisdom', 'wisdom'), ('sign', 'signing'), ('seattl', 'seattle'), ('keyboard', 'keyboard'), ('nephew', 'nephew'), ('lee', 'lee'), ('stoke', 'stoked'), ('agre', 'agreed'), ('differ', 'difference'), ('nkotb', 'nkotb'), ('continu', 'continue'), ('faster', 'faster'), ('revis', 'revise'), ('freak', 'freak'), ('ebay', 'ebay'), ('hm', 'hm'), ('wifi', 'wifi'), ('besid', 'besides'), ('fruit', 'fruit'), ('itali', 'italy'), ('speed', 'speed'), ('save', 'saved'), ('thumb', 'thumb'), ('fanci', 'fancy'), ('speak', 'speaking'), ('dalla', 'dallas'), ('mode', 'mode'), ('chapter', 'chapter'), ('whoa', 'whoa'), ('spell', 'spell'), ('butter', 'butter'), ('giant', 'giant'), ('jordan', 'jordan'), ('niec', 'niece'), ('bottom', 'bottom'), ('crew', 'crew'), ('tim', 'tim'), ('youu', 'youu'), ('gossip', 'gossip'), ('flash', 'flash'), ('wick', 'wicked'), ('tag', 'tag'), ('jersey', 'jersey'), ('miser', 'miserable'), ('cooki', 'cookie'), ('nicol', 'nicole'), ('lisa', 'lisa'), ('edit', 'editing'), ('ughhh', 'ughhh'), ('massag', 'massage'), ('un', 'un'), ('swift', 'swift'), ('suit', 'suit'), ('spider', 'spider'), ('log', 'log'), ('guilti', 'guilty'), ('hit', 'hitting'), ('research', 'research'), ('tmrw', 'tmrw'), ('jess', 'jess'), ('product', 'product'), ('hip', 'hip'), ('mari', 'mary'), ('retweet', 'retweet'), ('languag', 'language'), ('dannymcfli', 'dannymcfly'), ('period', 'period'), ('palm', 'palm'), ('ruin', 'ruin'), ('odd', 'odd'), ('aka', 'aka'), ('robert', 'robert'), ('graduat', 'graduate'), ('ep', 'ep'), ('like', 'likely'), ('camp', 'camping'), ('current', 'current'), ('chat', 'chatting'), ('chelsea', 'chelsea'), ('explain', 'explain'), ('belli', 'belly'), ('termin', 'terminator'), ('amanda', 'amanda'), ('alcohol', 'alcohol'), ('beauti', 'beauty'), ('atleast', 'atleast'), ('buck', 'buck'), ('donut', 'donut'), ('tight', 'tight'), ('burn', 'burned'), ('amount', 'amount'), ('wouldnt', 'wouldnt'), ('river', 'river'), ('parad', 'parade'), ('vote', 'voting'), ('save', 'saving'), ('lab', 'lab'), ('spain', 'spain'), ('switch', 'switch'), ('msg', 'msg'), ('creativ', 'creative'), ('infect', 'infection'), ('clue', 'clue'), ('monster', 'monster'), ('nois', 'noise'), ('bowl', 'bowl'), ('hee', 'hee'), ('con', 'con'), ('arent', 'arent'), ('georg', 'george'), ('releas', 'released'), ('comic', 'comic'), ('chang', 'changing'), ('data', 'data'), ('toronto', 'toronto'), ('attempt', 'attempt'), ('gold', 'gold'), ('tweeti', 'tweetie'), ('heyi', 'heyy'), ('harder', 'harder'), ('van', 'van'), ('curiou', 'curious'), ('poo', 'poo'), ('zoo', 'zoo'), ('build', 'build'), ('colour', 'colour'), ('wild', 'wild'), ('per', 'per'), ('delet', 'delete'), ('hw', 'hw'), ('noodl', 'noodle'), ('skype', 'skype'), ('lyric', 'lyric'), ('sf', 'sf'), ('tool', 'tool'), ('stream', 'stream'), ('cafe', 'cafe'), ('cap', 'cap'), ('cinema', 'cinema'), ('regular', 'regular'), ('ocean', 'ocean'), ('within', 'within'), ('consid', 'considering'), ('threw', 'threw'), ('firefox', 'firefox'), ('cyru', 'cyrus'), ('address', 'address'), ('fox', 'fox'), ('titl', 'title'), ('nowher', 'nowhere'), ('basic', 'basically'), ('momma', 'momma'), ('boom', 'boom'), ('woop', 'woop'), ('boyl', 'boyle'), ('guest', 'guest'), ('wooo', 'wooo'), ('ala', 'ala'), ('stand', 'standing'), ('recommend', 'recommend'), ('emili', 'emily'), ('stole', 'stole'), ('ooo', 'ooo'), ('focu', 'focus'), ('greatest', 'greatest'), ('bah', 'bah'), ('launch', 'launch'), ('wen', 'wen'), ('admit', 'admit'), ('draw', 'drawing'), ('happi', 'happiness'), ('nerd', 'nerd'), ('tweeterfollow', 'tweeterfollow'), ('repli', 'replied'), ('sever', 'several'), ('screw', 'screw'), ('spread', 'spread'), ('bomb', 'bomb'), ('gaga', 'gaga'), ('base', 'based'), ('demon', 'demon'), ('gear', 'gear'), ('sm', 'sm'), ('hayfev', 'hayfever'), ('press', 'press'), ('hd', 'hd'), ('repeat', 'repeat'), ('suddenli', 'suddenly'), ('starv', 'starving'), ('privat', 'private'), ('insan', 'insane'), ('push', 'push'), ('plenti', 'plenty'), ('cover', 'covered'), ('bing', 'bing'), ('lover', 'lover'), ('yuck', 'yuck'), ('lock', 'locked'), ('ol', 'ol'), ('honest', 'honest'), ('book', 'booked'), ('tooo', 'tooo'), ('beyond', 'beyond'), ('process', 'process'), ('content', 'content'), ('tommorow', 'tommorow'), ('darl', 'darling'), ('bang', 'bang'), ('remind', 'remind'), ('que', 'que'), ('exercis', 'exercise'), ('delay', 'delayed'), ('drove', 'drove'), ('wast', 'wasted'), ('whether', 'whether'), ('celebr', 'celebrity'), ('spirit', 'spirit'), ('rain', 'rained'), ('nothin', 'nothin'), ('muscl', 'muscle'), ('aplusk', 'aplusk'), ('section', 'section'), ('thinkin', 'thinkin'), ('crush', 'crush'), ('rich', 'rich'), ('prob', 'probs'), ('rude', 'rude'), ('mission', 'mission'), ('bother', 'bother'), ('applic', 'application'), ('gs', 'g'), ('picnic', 'picnic'), ('show', 'showed'), ('burn', 'burning'), ('duti', 'duty'), ('kri', 'kris'), ('swollen', 'swollen'), ('woken', 'woken'), ('rehears', 'rehearsal'), ('talkin', 'talkin'), ('sniff', 'sniff'), ('search', 'searching'), ('challeng', 'challenge'), ('hold', 'holding'), ('kim', 'kim'), ('written', 'written'), ('print', 'print'), ('hate', 'hating'), ('mp', 'mp'), ('makeup', 'makeup'), ('lb', 'lb'), ('download', 'downloaded'), ('charger', 'charger'), ('someday', 'someday'), ('au', 'au'), ('eric', 'eric'), ('grab', 'grab'), ('bum', 'bum'), ('bubbl', 'bubble'), ('hadn', 'hadn'), ('draw', 'draw'), ('piano', 'piano'), ('simpli', 'simply'), ('pound', 'pound'), ('yoga', 'yoga'), ('noo', 'noo'), ('mous', 'mouse'), ('andrew', 'andrew'), ('chemistri', 'chemistry'), ('music', 'musical'), ('bio', 'bio'), ('eu', 'eu'), ('name', 'named'), ('bring', 'brings'), ('ash', 'ash'), ('yellow', 'yellow'), ('gener', 'general'), ('scratch', 'scratch'), ('relat', 'related'), ('urgh', 'urgh'), ('peanut', 'peanut'), ('wolverin', 'wolverine'), ('itself', 'itself'), ('breath', 'breathe'), ('ridicul', 'ridiculous'), ('ie', 'ie'), ('en', 'en'), ('recommend', 'recommendation'), ('laura', 'laura'), ('skill', 'skill'), ('celebr', 'celebrating'), ('breath', 'breath'), ('gmail', 'gmail'), ('fill', 'fill'), ('besti', 'bestie'), ('insomnia', 'insomnia'), ('appreci', 'appreciated'), ('cruis', 'cruise'), ('bob', 'bob'), ('jen', 'jen'), ('joeymcintyr', 'joeymcintyre'), ('hay', 'hay'), ('brian', 'brian'), ('bt', 'bt'), ('rush', 'rush'), ('hung', 'hung'), ('heel', 'heel'), ('frustrat', 'frustrated'), ('clean', 'cleaned'), ('jimmi', 'jimmy'), ('stone', 'stone'), ('steph', 'steph'), ('singer', 'singer'), ('funer', 'funeral'), ('jami', 'jamie'), ('attend', 'attend'), ('inspir', 'inspiration'), ('bring', 'bringing'), ('yu', 'yu'), ('blink', 'blink'), ('shaundiviney', 'shaundiviney'), ('close', 'closing'), ('cherri', 'cherry'), ('mee', 'mee'), ('regret', 'regret'), ('austin', 'austin'), ('rate', 'rate'), ('goood', 'goood'), ('sock', 'sock'), ('imposs', 'impossible'), ('chest', 'chest'), ('ghost', 'ghost'), ('grass', 'grass'), ('listen', 'listened'), ('ireland', 'ireland'), ('piti', 'pity'), ('mia', 'mia'), ('bowl', 'bowling'), ('friendli', 'friendly'), ('sell', 'selling'), ('vid', 'vids'), ('actual', 'actual'), ('whilst', 'whilst'), ('snack', 'snack'), ('bull', 'bull'), ('potato', 'potato'), ('forc', 'force'), ('creepi', 'creepy'), ('mexico', 'mexico'), ('cereal', 'cereal'), ('gf', 'gf'), ('up', 'ups'), ('comin', 'comin'), ('larg', 'large'), ('rofl', 'rofl'), ('thnx', 'thnx'), ('dread', 'dreading'), ('sad', 'sadness'), ('wood', 'wood'), ('himself', 'himself'), ('poster', 'poster'), ('discov', 'discovered'), ('garag', 'garage'), ('outfit', 'outfit'), ('japanes', 'japanese'), ('fri', 'fri'), ('journey', 'journey'), ('suffer', 'suffering'), ('shoot', 'shooting'), ('rachel', 'rachel'), ('hollywood', 'hollywood'), ('pour', 'pouring'), ('whoop', 'whoop'), ('jeff', 'jeff'), ('yey', 'yey'), ('stock', 'stock'), ('loos', 'loose'), ('cast', 'cast'), ('opinion', 'opinion'), ('ne', 'ne'), ('edward', 'edward'), ('mid', 'mid'), ('melbourn', 'melbourne'), ('includ', 'including'), ('market', 'marketing'), ('april', 'april'), ('china', 'china'), ('manag', 'manage'), ('creat', 'create'), ('target', 'target'), ('ground', 'ground'), ('moro', 'moro'), ('item', 'item'), ('stink', 'stink'), ('septemb', 'september'), ('italian', 'italian'), ('yike', 'yikes'), ('respond', 'respond'), ('kick', 'kicking'), ('frm', 'frm'), ('incred', 'incredible'), ('arriv', 'arrive'), ('clearli', 'clearly'), ('bk', 'bk'), ('errand', 'errand'), ('packag', 'package'), ('hide', 'hide'), ('lawn', 'lawn'), ('basketbal', 'basketball'), ('babysit', 'babysitting'), ('fulli', 'fully'), ('skool', 'skool'), ('pig', 'pig'), ('clip', 'clip'), ('nake', 'naked'), ('noon', 'noon'), ('pure', 'pure'), ('houston', 'houston'), ('india', 'india'), ('cancel', 'canceled'), ('drank', 'drank'), ('hungov', 'hungover'), ('correct', 'correct'), ('rise', 'rise'), ('cu', 'cu'), ('desktop', 'desktop'), ('awh', 'awh'), ('becom', 'becoming'), ('competit', 'competition'), ('michel', 'michelle'), ('japan', 'japan'), ('ace', 'ace'), ('zombi', 'zombie'), ('browni', 'brownie'), ('omfg', 'omfg'), ('awsom', 'awsome'), ('park', 'parking'), ('prolli', 'prolly'), ('url', 'url'), ('mention', 'mentioned'), ('pot', 'pot'), ('youngq', 'youngq'), ('deck', 'deck'), ('obsess', 'obsessed'), ('trick', 'trick'), ('ang', 'ang'), ('faith', 'faith'), ('sauc', 'sauce'), ('grace', 'grace'), ('icon', 'icon'), ('poker', 'poker'), ('ad', 'adding'), ('recip', 'recipe'), ('commun', 'community'), ('master', 'master'), ('di', 'di'), ('farrah', 'farrah'), ('court', 'court'), ('writer', 'writer'), ('britain', 'britain'), ('metro', 'metro'), ('apt', 'apt'), ('lolz', 'lolz'), ('crowd', 'crowd'), ('relationship', 'relationship'), ('cam', 'cam'), ('aswel', 'aswell'), ('gd', 'gd'), ('bother', 'bothered'), ('teen', 'teen'), ('pleas', 'pleased'), ('jo', 'jo'), ('va', 'va'), ('di', 'dis'), ('fri', 'fried'), ('cop', 'cop'), ('brunch', 'brunch'), ('drug', 'drug'), ('cnt', 'cnt'), ('physic', 'physic'), ('seb', 'seb'), ('bella', 'bella'), ('yahoo', 'yahoo'), ('grown', 'grown'), ('gfalcon', 'gfalcone'), ('freedom', 'freedom'), ('jacket', 'jacket'), ('scare', 'scare'), ('knight', 'knight'), ('viru', 'virus'), ('pride', 'pride'), ('graphic', 'graphic'), ('pass', 'passing'), ('manchest', 'manchester'), ('princ', 'prince'), ('bbc', 'bbc'), ('fridg', 'fridge'), ('connect', 'connect'), ('mass', 'mass'), ('instal', 'installed'), ('novemb', 'november'), ('duck', 'duck'), ('fool', 'fool'), ('common', 'common'), ('mexican', 'mexican'), ('sittin', 'sittin'), ('despit', 'despite'), ('tire', 'tire'), ('quiz', 'quiz'), ('confus', 'confusing'), ('megan', 'megan'), ('scott', 'scott'), ('philli', 'philly'), ('ignor', 'ignore'), ('muffin', 'muffin'), ('tomorow', 'tomorow'), ('awwwww', 'awwwww'), ('billi', 'billy'), ('steak', 'steak'), ('cut', 'cutting'), ('bless', 'blessing'), ('femal', 'female'), ('boooo', 'boooo'), ('fest', 'fest'), ('emma', 'emma'), ('flip', 'flip'), ('theater', 'theater'), ('upload', 'uploaded'), ('gun', 'gun'), ('hall', 'hall'), ('lightn', 'lightning'), ('makin', 'makin'), ('weak', 'weak'), ('type', 'typing'), ('iranelect', 'iranelection'), ('cough', 'coughing'), ('throw', 'throwing'), ('nh', 'nh'), ('perezhilton', 'perezhilton'), ('wana', 'wana'), ('amazon', 'amazon'), ('enter', 'enter'), ('british', 'british'), ('anna', 'anna'), ('desper', 'desperate'), ('snap', 'snap'), ('atlanta', 'atlanta'), ('alyssa', 'alyssa'), ('dam', 'dam'), ('kat', 'kat'), ('forgotten', 'forgotten'), ('pill', 'pill'), ('squar', 'square'), ('grrrr', 'grrrr'), ('dawn', 'dawn'), ('hawaii', 'hawaii'), ('oil', 'oil'), ('smith', 'smith'), ('blond', 'blonde'), ('tee', 'tee'), ('password', 'password'), ('cramp', 'cramp'), ('feedback', 'feedback'), ('easili', 'easily'), ('meat', 'meat'), ('flickr', 'flickr'), ('wheel', 'wheel'), ('tax', 'tax'), ('pillow', 'pillow'), ('preview', 'preview'), ('ummm', 'ummm'), ('daniel', 'daniel'), ('speech', 'speech'), ('sure', 'surely'), ('woah', 'woah'), ('host', 'host'), ('thur', 'thurs'), ('charli', 'charlie'), ('rove', 'rove'), ('longest', 'longest'), ('vampir', 'vampire'), ('pasta', 'pasta'), ('sort', 'sorted'), ('nom', 'nom'), ('ship', 'ship'), ('mean', 'meaning'), ('nt', 'nt'), ('battl', 'battle'), ('yawn', 'yawn'), ('morn', 'morn'), ('iv', 'iv'), ('bud', 'bud'), ('root', 'root'), ('bedroom', 'bedroom'), ('care', 'careful'), ('disappoint', 'disappointing'), ('nooooo', 'nooooo'), ('herself', 'herself'), ('microsoft', 'microsoft'), ('manag', 'manager'), ('wordpress', 'wordpress'), ('lo', 'lo'), ('comedi', 'comedy'), ('script', 'script'), ('zone', 'zone'), ('talent', 'talented'), ('esp', 'esp'), ('avoid', 'avoid'), ('allerg', 'allergic'), ('entri', 'entry'), ('hockey', 'hockey'), ('sunburnt', 'sunburnt'), ('daisi', 'daisy'), ('open', 'opened'), ('tomato', 'tomato'), ('subject', 'subject'), ('yeahh', 'yeahh'), ('se', 'se'), ('cutest', 'cutest'), ('effort', 'effort'), ('pocket', 'pocket'), ('mag', 'mag'), ('accord', 'according'), ('tongu', 'tongue'), ('apprentic', 'apprentice'), ('surviv', 'survive'), ('tank', 'tank'), ('il', 'il'), ('nighti', 'nighty'), ('cancel', 'cancel'), ('hook', 'hook'), ('aussi', 'aussie'), ('softbal', 'softball'), ('gloriou', 'glorious'), ('damnit', 'damnit'), ('gloomi', 'gloomy'), ('twittervers', 'twitterverse'), ('allen', 'allen'), ('indian', 'indian'), ('rt', 'rt'), ('similar', 'similar'), ('hop', 'hop'), ('playin', 'playin'), ('lion', 'lion'), ('grandpa', 'grandpa'), ('popcorn', 'popcorn'), ('steal', 'steal'), ('cab', 'cab'), ('normal', 'normally'), ('consid', 'consider'), ('carri', 'carry'), ('geniu', 'genius'), ('octob', 'october'), ('scream', 'scream'), ('teach', 'teaching'), ('panda', 'panda'), ('partner', 'partner'), ('seem', 'seemed'), ('technolog', 'technology'), ('expect', 'expecting'), ('jerk', 'jerk'), ('cricket', 'cricket'), ('waffl', 'waffle'), ('lvatt', 'lvatt'), ('highli', 'highly'), ('tx', 'tx'), ('univers', 'universe'), ('opportun', 'opportunity'), ('singapor', 'singapore'), ('scotland', 'scotland'), ('cow', 'cow'), ('subway', 'subway'), ('locat', 'location'), ('kyle', 'kyle'), ('pressur', 'pressure'), ('headphon', 'headphone'), ('flag', 'flag'), ('scream', 'screaming'), ('blip', 'blip'), ('bleh', 'bleh'), ('bake', 'baking'), ('jet', 'jet'), ('compliment', 'compliment'), ('neighbour', 'neighbour'), ('theatr', 'theatre'), ('hahahah', 'hahahah'), ('golden', 'golden'), ('cook', 'cooked'), ('lemon', 'lemon'), ('selena', 'selena'), ('cure', 'cure'), ('iron', 'iron'), ('wise', 'wise'), ('comfi', 'comfy'), ('repli', 'replying'), ('tomfelton', 'tomfelton'), ('sri', 'sry'), ('rainbow', 'rainbow'), ('layout', 'layout'), ('hmmmm', 'hmmmm'), ('asian', 'asian'), ('popular', 'popular'), ('contract', 'contract'), ('oo', 'oo'), ('offlin', 'offline'), ('kobe', 'kobe'), ('jst', 'jst'), ('land', 'landed'), ('delay', 'delay'), ('tan', 'tanning'), ('sooner', 'sooner'), ('demo', 'demo'), ('use', 'useful'), ('frustrat', 'frustrating'), ('calm', 'calm'), ('central', 'central'), ('respect', 'respect'), ('drew', 'drew'), ('smoke', 'smoking'), ('rock', 'rocked'), ('eventu', 'eventually'), ('sourc', 'source'), ('fail', 'failing'), ('ga', 'ga'), ('hater', 'hater'), ('theori', 'theory'), ('terribl', 'terribly'), ('piss', 'piss'), ('depend', 'depends'), ('inspir', 'inspired'), ('te', 'te'), ('logo', 'logo'), ('photographi', 'photography'), ('kay', 'kay'), ('poorli', 'poorly'), ('allow', 'allow'), ('reunion', 'reunion'), ('mah', 'mah'), ('tasti', 'tasty'), ('rub', 'rub'), ('seven', 'seven'), ('diego', 'diego'), ('audio', 'audio'), ('drum', 'drum'), ('photoshop', 'photoshop'), ('gona', 'gona'), ('deliveri', 'delivery'), ('accident', 'accidentally'), ('unfair', 'unfair'), ('previou', 'previous'), ('sheet', 'sheet'), ('staff', 'staff'), ('planet', 'planet'), ('paranoid', 'paranoid'), ('pete', 'pete'), ('wallet', 'wallet'), ('parti', 'partying'), ('shape', 'shape'), ('vodka', 'vodka'), ('hooray', 'hooray'), ('fl', 'fl'), ('mcdonald', 'mcdonalds'), ('tape', 'tape'), ('digit', 'digital'), ('forc', 'forced'), ('audit', 'audition'), ('christma', 'christmas'), ('minu', 'minus'), ('involv', 'involved'), ('roof', 'roof'), ('leno', 'leno'), ('waitin', 'waitin'), ('laugh', 'laughed'), ('jim', 'jim'), ('browser', 'browser'), ('spoke', 'spoke'), ('adult', 'adult'), ('dick', 'dick'), ('bein', 'bein'), ('dare', 'dare'), ('polic', 'police'), ('poop', 'poop'), ('natur', 'nature'), ('secur', 'security'), ('collect', 'collection'), ('interest', 'interest'), ('mmmmm', 'mmmmm'), ('itchi', 'itchy'), ('bass', 'bass'), ('luckili', 'luckily'), ('failur', 'failure'), ('abov', 'above'), ('tgif', 'tgif'), ('univers', 'university'), ('stolen', 'stolen'), ('windi', 'windy'), ('pr', 'pr'), ('podcast', 'podcast'), ('tryna', 'tryna'), ('spare', 'spare'), ('sausag', 'sausage'), ('push', 'pushing'), ('progress', 'progress'), ('dig', 'dig'), ('lang', 'lang'), ('dun', 'dun'), ('ian', 'ian'), ('din', 'din'), ('sec', 'sec'), ('mummi', 'mummy'), ('gud', 'gud'), ('guess', 'guessing'), ('dream', 'dreaming'), ('fix', 'fixing'), ('warn', 'warning'), ('holli', 'holly'), ('crash', 'crashing'), ('bridg', 'bridge'), ('hunt', 'hunting'), ('wk', 'wk'), ('greek', 'greek'), ('joey', 'joey'), ('sweetheart', 'sweetheart'), ('obama', 'obama'), ('xox', 'xox'), ('incred', 'incredibly'), ('thoma', 'thomas'), ('officialtila', 'officialtila'), ('fo', 'fo'), ('ahhhhh', 'ahhhhh'), ('coursework', 'coursework'), ('knock', 'knock'), ('jone', 'jones'), ('sh', 'sh'), ('chi', 'chi'), ('coach', 'coach'), ('zero', 'zero'), ('licens', 'license'), ('trent', 'trent'), ('medicin', 'medicine'), ('hon', 'hon'), ('somethin', 'somethin'), ('walmart', 'walmart'), ('chore', 'chore'), ('robin', 'robin'), ('fyi', 'fyi'), ('ellen', 'ellen'), ('wireless', 'wireless'), ('hangin', 'hangin'), ('tie', 'tie'), ('disneyland', 'disneyland'), ('tbh', 'tbh'), ('refus', 'refuse'), ('skip', 'skip'), ('oz', 'oz'), ('sound', 'sounded'), ('meee', 'meee'), ('nba', 'nba'), ('edit', 'edit'), ('sudden', 'sudden'), ('christian', 'christian'), ('task', 'task'), ('perform', 'perform'), ('complain', 'complain'), ('semest', 'semester'), ('takin', 'takin'), ('entertain', 'entertaining'), ('graduat', 'graduating'), ('bugger', 'bugger'), ('turkey', 'turkey'), ('recov', 'recovering'), ('blind', 'blind'), ('hide', 'hiding'), ('lap', 'lap'), ('bastard', 'bastard'), ('kirstiealley', 'kirstiealley'), ('mix', 'mixed'), ('accept', 'accept'), ('biolog', 'biology'), ('soft', 'soft'), ('realis', 'realise'), ('sunglass', 'sunglass'), ('shini', 'shiny'), ('owner', 'owner'), ('trade', 'trade'), ('sara', 'sara'), ('sayin', 'sayin'), ('opera', 'opera'), ('mainten', 'maintenance'), ('ds', 'd'), ('victoria', 'victoria'), ('andyclemmensen', 'andyclemmensen'), ('aye', 'aye'), ('jessica', 'jessica'), ('jake', 'jake'), ('brace', 'brace'), ('geez', 'geez'), ('motiv', 'motivation'), ('thank', 'thankful'), ('wait', 'waited'), ('thingi', 'thingy'), ('hook', 'hooked'), ('warp', 'warped'), ('musicmonday', 'musicmonday'), ('plain', 'plain'), ('exist', 'exist'), ('ohhhh', 'ohhhh'), ('sob', 'sob'), ('fish', 'fishing'), ('youuu', 'youuu'), ('plug', 'plug'), ('swing', 'swing'), ('weed', 'weed'), ('nadal', 'nadal'), ('deserv', 'deserved'), ('remind', 'reminded'), ('envi', 'envy'), ('emot', 'emotional'), ('frozen', 'frozen'), ('solo', 'solo'), ('prepar', 'prepare'), ('yayi', 'yayy'), ('kristen', 'kristen'), ('metal', 'metal'), ('yer', 'yer'), ('accent', 'accent'), ('typic', 'typical'), ('km', 'km'), ('eminem', 'eminem'), ('toilet', 'toilet'), ('pee', 'pee'), ('hunt', 'hunt'), ('awkward', 'awkward'), ('hv', 'hv'), ('devil', 'devil'), ('semi', 'semi'), ('jacob', 'jacob'), ('wah', 'wah'), ('drop', 'dropping'), ('porn', 'porn'), ('panic', 'panic'), ('gal', 'gal'), ('yesss', 'yes'), ('alexalltimelow', 'alexalltimelow'), ('useless', 'useless'), ('map', 'map'), ('appt', 'appt'), ('papa', 'papa'), ('mango', 'mango'), ('nice', 'nicely'), ('tube', 'tube'), ('playlist', 'playlist'), ('stuf', 'stuffed'), ('bound', 'bound'), ('bak', 'bak'), ('ef', 'effing'), ('stair', 'stair'), ('stephenfri', 'stephenfry'), ('wrist', 'wrist'), ('actor', 'actor'), ('punch', 'punch'), ('nj', 'nj'), ('lem', 'lem'), ('our', 'ours'), ('nz', 'nz'), ('stranger', 'stranger'), ('tiger', 'tiger'), ('emo', 'emo'), ('career', 'career'), ('auto', 'auto'), ('afterward', 'afterwards'), ('toward', 'towards'), ('wth', 'wth'), ('jane', 'jane'), ('ab', 'ab'), ('vibe', 'vibe'), ('lebron', 'lebron'), ('success', 'successful'), ('amber', 'amber'), ('horror', 'horror'), ('youth', 'youth'), ('tmr', 'tmr'), ('climb', 'climb'), ('wash', 'washed'), ('pepper', 'pepper'), ('graduat', 'graduated'), ('rockin', 'rockin'), ('honor', 'honor'), ('mc', 'mc'), ('speaker', 'speaker'), ('insur', 'insurance'), ('sneak', 'sneak'), ('addict', 'addiction'), ('lock', 'lock'), ('inform', 'information'), ('creat', 'created'), ('hint', 'hint'), ('forgiv', 'forgive'), ('simon', 'simon'), ('liz', 'liz'), ('cuti', 'cutie'), ('thee', 'thee'), ('grandpar', 'grandparent'), ('bsb', 'bsb'), ('premier', 'premiere'), ('split', 'split'), ('edg', 'edge'), ('remov', 'removed'), ('bust', 'busted'), ('complet', 'completed'), ('heap', 'heap'), ('carpet', 'carpet'), ('role', 'role'), ('xp', 'xp'), ('jazz', 'jazz'), ('ice', 'iced'), ('fill', 'filling'), ('curri', 'curry'), ('gee', 'gee'), ('whore', 'whore'), ('defin', 'definately'), ('thai', 'thai'), ('wossi', 'wossy'), ('natur', 'natural'), ('suggest', 'suggest'), ('ant', 'ant'), ('yess', 'yes'), ('phil', 'phil'), ('eva', 'eva'), ('patient', 'patient'), ('temp', 'temp'), ('tue', 'tues'), ('sub', 'sub'), ('phew', 'phew'), ('irish', 'irish'), ('blog', 'blogging'), ('paramor', 'paramore'), ('repair', 'repair'), ('johnni', 'johnny'), ('loung', 'lounge'), ('guid', 'guide'), ('cooler', 'cooler'), ('purchas', 'purchase'), ('time', 'timing'), ('settl', 'settle'), ('tracecyru', 'tracecyrus'), ('ooooh', 'ooooh'), ('budget', 'budget'), ('sean', 'sean'), ('deadlin', 'deadline'), ('die', 'dy'), ('nugget', 'nugget'), ('org', 'org'), ('wrk', 'wrk'), ('celebr', 'celebration'), ('doggi', 'doggy'), ('nor', 'nor'), ('ohio', 'ohio'), ('iamdiddi', 'iamdiddy'), ('duh', 'duh'), ('greet', 'greeting'), ('twitter', 'twitterer'), ('prize', 'prize'), ('male', 'male'), ('bride', 'bride'), ('strike', 'strike'), ('reader', 'reader'), ('pup', 'pup'), ('dublin', 'dublin'), ('tire', 'tiring'), ('denver', 'denver'), ('armi', 'army'), ('shade', 'shade'), ('aid', 'aid'), ('hp', 'hp'), ('stephen', 'stephen'), ('hiya', 'hiya'), ('aaron', 'aaron'), ('mosquito', 'mosquito'), ('direct', 'direction'), ('receiv', 'receive'), ('shock', 'shock'), ('function', 'function'), ('whoo', 'whoo'), ('disappear', 'disappeared'), ('raw', 'raw'), ('pirat', 'pirate'), ('inch', 'inch'), ('silver', 'silver'), ('mel', 'mel'), ('hasnt', 'hasnt'), ('perfectli', 'perfectly'), ('dull', 'dull'), ('replac', 'replace'), ('knock', 'knocked'), ('roll', 'rolling'), ('spell', 'spelling'), ('asot', 'asot'), ('farm', 'farm'), ('nigga', 'nigga'), ('thousand', 'thousand'), ('cartoon', 'cartoon'), ('sight', 'sight'), ('express', 'express'), ('mario', 'mario'), ('fi', 'fi'), ('veronica', 'veronica'), ('marley', 'marley'), ('carter', 'carter'), ('usernam', 'username'), ('sweat', 'sweat'), ('younger', 'younger'), ('skinni', 'skinny'), ('hate', 'hated'), ('solut', 'solution'), ('supernatur', 'supernatural'), ('ashleytisdal', 'ashleytisdale'), ('lili', 'lily'), ('reach', 'reached'), ('wud', 'wud'), ('easter', 'easter'), ('vista', 'vista'), ('worker', 'worker'), ('pathet', 'pathetic'), ('theyr', 'theyre'), ('patrick', 'patrick'), ('join', 'joining'), ('berri', 'berry'), ('happier', 'happier'), ('backup', 'backup'), ('shortli', 'shortly'), ('nc', 'nc'), ('intens', 'intense'), ('etsi', 'etsy'), ('holla', 'holla'), ('veggi', 'veggie'), ('sooooooo', 'sooooooo'), ('eww', 'eww'), ('coldplay', 'coldplay'), ('stalker', 'stalker'), ('judg', 'judge'), ('promis', 'promised'), ('dot', 'dot'), ('plate', 'plate'), ('whew', 'whew'), ('legend', 'legend'), ('everyon', 'everyones'), ('vine', 'vine'), ('prepar', 'prepared'), ('person', 'personally'), ('wknd', 'wknd'), ('alic', 'alice'), ('lilyroseallen', 'lilyroseallen'), ('blanket', 'blanket'), ('ach', 'aching'), ('film', 'filming'), ('asshol', 'asshole'), ('naw', 'naw'), ('pit', 'pit'), ('hood', 'hood'), ('dd', 'dd'), ('junk', 'junk'), ('downstair', 'downstairs'), ('twitterland', 'twitterland'), ('poem', 'poem'), ('matthew', 'matthew'), ('oven', 'oven'), ('lower', 'lower'), ('design', 'designer'), ('wish', 'wished'), ('souljaboytellem', 'souljaboytellem'), ('ft', 'ft'), ('bake', 'baked'), ('neg', 'negative'), ('earthquak', 'earthquake'), ('penguin', 'penguin'), ('grill', 'grill'), ('sleepov', 'sleepover'), ('johncmay', 'johncmayer'), ('norway', 'norway'), ('yayyy', 'yayyy'), ('unfollow', 'unfollow'), ('mint', 'mint'), ('nerv', 'nerve'), ('closet', 'closet'), ('travel', 'traveling'), ('icecream', 'icecream'), ('themselv', 'themselves'), ('curs', 'curse'), ('noon', 'noone'), ('pump', 'pumped'), ('sang', 'sang'), ('highlight', 'highlight'), ('dannywood', 'dannywood'), ('safari', 'safari'), ('posit', 'position'), ('domain', 'domain'), ('ahah', 'ahah'), ('richard', 'richard'), ('owe', 'owe'), ('halo', 'halo'), ('reaction', 'reaction'), ('signal', 'signal'), ('mari', 'marie'), ('roast', 'roast'), ('fawcett', 'fawcett'), ('laid', 'laid'), ('eve', 'eve'), ('pix', 'pix'), ('escap', 'escape'), ('recit', 'recital'), ('nevermind', 'nevermind'), ('confirm', 'confirmed'), ('jr', 'jr'), ('ap', 'ap'), ('eff', 'eff'), ('sucki', 'sucky'), ('mb', 'mb'), ('chem', 'chem'), ('wrap', 'wrap'), ('blister', 'blister'), ('prop', 'prop'), ('gm', 'gm'), ('dee', 'dee'), ('tweepl', 'tweeple'), ('jackson', 'jackson'), ('homemad', 'homemade'), ('santa', 'santa'), ('heather', 'heather'), ('phoenix', 'phoenix'), ('nxt', 'nxt'), ('dia', 'dia'), ('dope', 'dope'), ('rabbit', 'rabbit'), ('dislik', 'dislike'), ('dvr', 'dvr'), ('ignor', 'ignoring'), ('appear', 'appear'), ('wore', 'wore'), ('rock', 'rocking'), ('argentina', 'argentina'), ('linux', 'linux'), ('exchang', 'exchange'), ('comfort', 'comfort'), ('geographi', 'geography'), ('return', 'returned'), ('societi', 'society'), ('statement', 'statement'), ('ka', 'ka'), ('loop', 'loop'), ('shaun', 'shaun'), ('spymast', 'spymaster'), ('pregnant', 'pregnant'), ('pull', 'pulling'), ('ali', 'ali'), ('soni', 'sony'), ('deal', 'dealing'), ('includ', 'included'), ('ttyl', 'ttyl'), ('teh', 'teh'), ('ginger', 'ginger'), ('bot', 'bot'), ('ba', 'ba'), ('butterfli', 'butterfly'), ('agent', 'agent'), ('virtual', 'virtual'), ('grumpi', 'grumpy'), ('mental', 'mental'), ('whoever', 'whoever'), ('junior', 'junior'), ('caffein', 'caffeine'), ('exact', 'exact'), ('recent', 'recent'), ('eatin', 'eatin'), ('struggl', 'struggling'), ('unabl', 'unable'), ('will', 'willing'), ('complic', 'complicated'), ('date', 'dating'), ('preciou', 'precious'), ('activ', 'active'), ('kati', 'katy'), ('est', 'est'), ('robot', 'robot'), ('kit', 'kit'), ('pt', 'pt'), ('appli', 'apply'), ('pat', 'pat'), ('dannygokey', 'dannygokey'), ('grate', 'grateful'), ('unit', 'united'), ('habit', 'habit'), ('pin', 'pin'), ('umbrella', 'umbrella'), ('complain', 'complaining'), ('help', 'helpful'), ('homi', 'homie'), ('bagel', 'bagel'), ('string', 'string'), ('bleed', 'bleeding'), ('tb', 'tb'), ('further', 'further'), ('castl', 'castle'), ('activ', 'activity'), ('rescu', 'rescue'), ('coolest', 'coolest'), ('excit', 'excitement'), ('noe', 'no'), ('stack', 'stack'), ('rout', 'route'), ('dessert', 'dessert'), ('blogger', 'blogger'), ('nikki', 'nikki'), ('flew', 'flew'), ('friggin', 'friggin'), ('pal', 'pal'), ('bracelet', 'bracelet'), ('jenni', 'jenny'), ('twitterberri', 'twitterberry'), ('pretend', 'pretend'), ('remind', 'reminder'), ('titan', 'titanic'), ('marri', 'marry'), ('cruel', 'cruel'), ('scrub', 'scrub'), ('ai', 'ai'), ('roommat', 'roommate'), ('glasgow', 'glasgow'), ('mega', 'mega'), ('toooo', 'toooo'), ('karen', 'karen'), ('crack', 'cracked'), ('forget', 'forgetting'), ('leagu', 'league'), ('stare', 'staring'), ('melissa', 'melissa'), ('therealjordin', 'therealjordin'), ('feder', 'federer'), ('upon', 'upon'), ('kimkardashian', 'kimkardashian'), ('africa', 'africa'), ('shoulda', 'shoulda'), ('becam', 'became'), ('rat', 'rat'), ('songzyuuup', 'songzyuuup'), ('hack', 'hacked'), ('instal', 'installing'), ('canadian', 'canadian'), ('port', 'port'), ('elect', 'election'), ('got', 'gots'), ('sonic', 'sonic'), ('monitor', 'monitor'), ('nurs', 'nurse'), ('forecast', 'forecast'), ('emerg', 'emergency'), ('stress', 'stressful'), ('giggl', 'giggle'), ('crystal', 'crystal'), ('refer', 'reference'), ('gooood', 'gooood'), ('ubuntu', 'ubuntu'), ('tap', 'tap'), ('uber', 'uber'), ('purs', 'purse'), ('karma', 'karma'), ('rest', 'resting'), ('donni', 'donnie'), ('circl', 'circle'), ('intern', 'international'), ('peach', 'peach'), ('rli', 'rly'), ('tall', 'tall'), ('lift', 'lift'), ('nine', 'nine'), ('mess', 'messing'), ('tower', 'tower'), ('remix', 'remix'), ('whale', 'whale'), ('biscuit', 'biscuit'), ('multipl', 'multiple'), ('iam', 'iam'), ('borrow', 'borrow'), ('snl', 'snl'), ('anti', 'anti'), ('slide', 'slide'), ('trash', 'trash'), ('favor', 'favor'), ('attempt', 'attempting'), ('ador', 'adore'), ('answer', 'answered'), ('dancer', 'dancer'), ('reznor', 'reznor'), ('engin', 'engine'), ('valley', 'valley'), ('sd', 'sd'), ('sand', 'sand'), ('standard', 'standard'), ('sp', 'sp'), ('resist', 'resist'), ('mar', 'mar'), ('cheesecak', 'cheesecake'), ('centr', 'centre'), ('workshop', 'workshop'), ('oprah', 'oprah'), ('appear', 'appears'), ('vanilla', 'vanilla'), ('sorta', 'sorta'), ('vancouv', 'vancouver'), ('csi', 'csi'), ('chef', 'chef'), ('demand', 'demand'), ('es', 'e'), ('ann', 'ann'), ('gurl', 'gurl'), ('sox', 'sox'), ('shatter', 'shattered'), ('ako', 'ako'), ('bake', 'bake'), ('gum', 'gum'), ('pe', 'pe'), ('laurenconrad', 'laurenconrad'), ('korean', 'korean'), ('sweden', 'sweden'), ('hardcor', 'hardcore'), ('amen', 'amen'), ('tat', 'tat'), ('flick', 'flick'), ('milano', 'milano'), ('shock', 'shocked'), ('injuri', 'injury'), ('juli', 'julie'), ('boob', 'boob'), ('somewhat', 'somewhat'), ('ikea', 'ikea'), ('suppli', 'supply'), ('therapi', 'therapy'), ('oooo', 'oooo'), ('record', 'recorded'), ('tempt', 'tempted'), ('ars', 'arse'), ('salt', 'salt'), ('disgust', 'disgusting'), ('maria', 'maria'), ('cleveland', 'cleveland'), ('charlott', 'charlotte'), ('markhoppu', 'markhoppus'), ('unhappi', 'unhappy'), ('thank', 'thankfully'), ('passion', 'passion'), ('randomli', 'randomly'), ('trend', 'trend'), ('naughti', 'naughty'), ('distanc', 'distance'), ('royal', 'royal'), ('smiley', 'smiley'), ('hahahahaha', 'hahahahaha'), ('purpos', 'purpose'), ('yogurt', 'yogurt'), ('bro', 'bros'), ('tune', 'tuned'), ('soda', 'soda'), ('chase', 'chase'), ('petewentz', 'petewentz'), ('listenin', 'listenin'), ('dizzi', 'dizzy'), ('fa', 'fa'), ('grind', 'grind'), ('built', 'built'), ('extrem', 'extreme'), ('convo', 'convo'), ('brandon', 'brandon'), ('ct', 'ct'), ('host', 'hosting'), ('custom', 'custom'), ('march', 'march'), ('shud', 'shud'), ('unit', 'unit'), ('menu', 'menu'), ('remot', 'remote'), ('includ', 'include'), ('dye', 'dye'), ('iz', 'iz'), ('usb', 'usb'), ('disc', 'disc'), ('cc', 'cc'), ('patch', 'patch'), ('blew', 'blew'), ('dougi', 'dougie'), ('routin', 'routine'), ('rib', 'rib'), ('surviv', 'survived'), ('soundtrack', 'soundtrack'), ('dean', 'dean'), ('surf', 'surfing'), ('factori', 'factory'), ('jerri', 'jerry'), ('fantasi', 'fantasy'), ('edit', 'edition'), ('higher', 'higher'), ('biz', 'biz'), ('rio', 'rio'), ('bat', 'bat'), ('clever', 'clever'), ('mirror', 'mirror'), ('legal', 'legal'), ('sofa', 'sofa'), ('jump', 'jumping'), ('plastic', 'plastic'), ('devic', 'device'), ('coverag', 'coverage'), ('martin', 'martin'), ('safe', 'safely'), ('sick', 'sickness'), ('remov', 'remove'), ('az', 'az'), ('latt', 'latte'), ('follow', 'follows'), ('display', 'display'), ('luci', 'lucy'), ('detroit', 'detroit'), ('dork', 'dork'), ('soak', 'soaked'), ('valu', 'value'), ('liverpool', 'liverpool'), ('dust', 'dust'), ('nokia', 'nokia'), ('sneez', 'sneezing'), ('gray', 'gray'), ('bump', 'bump'), ('wat', 'wats'), ('necklac', 'necklace'), ('nashvil', 'nashville'), ('punk', 'punk'), ('turtl', 'turtle'), ('hahaa', 'hahaa'), ('pan', 'pan'), ('rais', 'raise'), ('shoutout', 'shoutout'), ('skirt', 'skirt'), ('zac', 'zac'), ('effin', 'effin'), ('indoor', 'indoors'), ('boredom', 'boredom'), ('mitchel', 'mitchel'), ('gg', 'gg'), ('beef', 'beef'), ('addict', 'addictive'), ('jess', 'jesse'), ('twittervil', 'twitterville'), ('ship', 'shipping'), ('girli', 'girly'), ('beyonc', 'beyonce'), ('electr', 'electric'), ('corn', 'corn'), ('pleasant', 'pleasant'), ('ye', 'ye'), ('ewww', 'ewww'), ('needl', 'needle'), ('replac', 'replaced'), ('perri', 'perry'), ('bruis', 'bruise'), ('laker', 'laker'), ('recept', 'reception'), ('limit', 'limited'), ('proof', 'proof'), ('srsli', 'srsly'), ('ly', 'ly'), ('java', 'java'), ('asia', 'asia'), ('tournament', 'tournament'), ('stop', 'stopping'), ('campu', 'campus'), ('overnight', 'overnight'), ('luke', 'luke'), ('knw', 'knw'), ('dev', 'dev'), ('inbox', 'inbox'), ('manila', 'manila'), ('convinc', 'convince'), ('thou', 'thou'), ('novel', 'novel'), ('manag', 'management'), ('worn', 'worn'), ('tad', 'tad'), ('hardest', 'hardest'), ('tumblr', 'tumblr'), ('bust', 'bust'), ('pattinson', 'pattinson'), ('sober', 'sober'), ('held', 'held'), ('develop', 'development'), ('xxxxx', 'xxxxx'), ('backyard', 'backyard'), ('brad', 'brad'), ('fone', 'fone'), ('doo', 'doo'), ('leavin', 'leavin'), ('prais', 'praise'), ('rang', 'range'), ('furnitur', 'furniture'), ('wink', 'wink'), ('humid', 'humid'), ('countdown', 'countdown'), ('mariahcarey', 'mariahcarey'), ('lovato', 'lovato'), ('bestfriend', 'bestfriend'), ('joke', 'joking'), ('secondstomar', 'secondstomars'), ('sway', 'sway'), ('distract', 'distracted'), ('wifey', 'wifey'), ('soap', 'soap'), ('joint', 'joint'), ('exampl', 'example'), ('balanc', 'balance'), ('answer', 'answering'), ('entertain', 'entertainment'), ('base', 'base'), ('benefit', 'benefit'), ('memori', 'memorial'), ('diff', 'diff'), ('havnt', 'havnt'), ('concentr', 'concentrate'), ('meeee', 'meeee'), ('chilli', 'chilly'), ('girli', 'girlie'), ('sim', 'sim'), ('hs', 'h'), ('accomplish', 'accomplished'), ('charm', 'charm'), ('noooooo', 'noooooo'), ('fallen', 'fallen'), ('mandi', 'mandy'), ('erin', 'erin'), ('fee', 'fee'), ('cocktail', 'cocktail'), ('recoveri', 'recovery'), ('lie', 'lied'), ('silenc', 'silence'), ('chain', 'chain'), ('pearl', 'pearl'), ('yucki', 'yucky'), ('tr', 'tr'), ('potenti', 'potential'), ('virgin', 'virgin'), ('opposit', 'opposite'), ('curl', 'curl'), ('creat', 'creating'), ('bs', 'b'), ('berlin', 'berlin'), ('ross', 'ross'), ('sake', 'sake'), ('champion', 'champion'), ('abc', 'abc'), ('frank', 'frank'), ('pile', 'pile'), ('thread', 'thread'), ('wk', 'wks'), ('perform', 'performing'), ('besti', 'besties'), ('solid', 'solid'), ('hundr', 'hundred'), ('yanke', 'yankee'), ('nw', 'nw'), ('pad', 'pad'), ('jelli', 'jelly'), ('clair', 'claire'), ('miracl', 'miracle'), ('fail', 'fails'), ('materi', 'material'), ('ann', 'anne'), ('booth', 'booth'), ('yelyahwilliam', 'yelyahwilliams'), ('divorc', 'divorce'), ('grew', 'grew'), ('fr', 'fr'), ('aah', 'aah'), ('venu', 'venue'), ('bibl', 'bible'), ('advanc', 'advance'), ('combo', 'combo'), ('email', 'emailed'), ('sync', 'sync'), ('ss', 's'), ('salon', 'salon'), ('text', 'texted'), ('awesom', 'awesomeness'), ('goodnit', 'goodnite'), ('upsid', 'upside'), ('marriag', 'marriage'), ('apolog', 'apology'), ('slice', 'slice'), ('brit', 'brit'), ('chrome', 'chrome'), ('gang', 'gang'), ('headin', 'headin'), ('paula', 'paula'), ('promo', 'promo'), ('lamb', 'lamb'), ('bin', 'bin'), ('messi', 'messy'), ('photoshoot', 'photoshoot'), ('onion', 'onion'), ('rubi', 'ruby'), ('reali', 'realy'), ('childhood', 'childhood'), ('heyyy', 'heyyy'), ('tornado', 'tornado'), ('announc', 'announcement'), ('buzz', 'buzz'), ('lo', 'los'), ('spin', 'spin'), ('advantag', 'advantage'), ('chile', 'chile'), ('wimbledon', 'wimbledon'), ('discuss', 'discussion'), ('owl', 'owl'), ('washington', 'washington'), ('smooth', 'smooth'), ('craig', 'craig'), ('basement', 'basement'), ('belong', 'belong'), ('urban', 'urban'), ('whose', 'whose'), ('addict', 'addict'), ('decemb', 'december'), ('reckon', 'reckon'), ('brb', 'brb'), ('shouldnt', 'shouldnt'), ('snuggl', 'snuggle'), ('overal', 'overall'), ('wi', 'wi'), ('sunset', 'sunset'), ('suspend', 'suspended'), ('bow', 'bow'), ('plurk', 'plurk'), ('anatomi', 'anatomy'), ('retard', 'retarded'), ('coat', 'coat'), ('cracker', 'cracker'), ('sunburn', 'sunburned'), ('balloon', 'balloon'), ('giveaway', 'giveaway'), ('eurovis', 'eurovision'), ('beth', 'beth'), ('pea', 'pea'), ('celeb', 'celebs'), ('michigan', 'michigan'), ('christ', 'christ'), ('horni', 'horny'), ('pass', 'pass'), ('chariti', 'charity'), ('taught', 'taught'), ('love', 'lovee'), ('php', 'php'), ('spa', 'spa'), ('hub', 'hub'), ('ninja', 'ninja'), ('thu', 'thus'), ('jail', 'jail'), ('bonu', 'bonus'), ('amsterdam', 'amsterdam'), ('squirrel', 'squirrel'), ('deliv', 'delivered'), ('damag', 'damage'), ('replac', 'replacement'), ('develop', 'developer'), ('aaah', 'aaah'), ('lambert', 'lambert'), ('spammer', 'spammer'), ('dissapoint', 'dissapointed'), ('archuleta', 'archuleta'), ('henc', 'hence'), ('championship', 'championship'), ('refresh', 'refreshing'), ('tsk', 'tsk'), ('katyperri', 'katyperry'), ('tub', 'tub'), ('chili', 'chili'), ('den', 'den'), ('rare', 'rare'), ('asham', 'ashamed'), ('quarter', 'quarter'), ('gate', 'gate'), ('tu', 'tu'), ('hyper', 'hyper'), ('tab', 'tab'), ('bradiewebbstack', 'bradiewebbstack'), ('brave', 'brave'), ('nicer', 'nicer'), ('tortur', 'torture'), ('gain', 'gain'), ('wendi', 'wendy'), ('beast', 'beast'), ('irememb', 'iremember'), ('strength', 'strength'), ('bliss', 'bliss'), ('handsom', 'handsome'), ('tyler', 'tyler'), ('pattern', 'pattern'), ('cha', 'cha'), ('race', 'racing'), ('jare', 'jared'), ('fairi', 'fairy'), ('australian', 'australian'), ('housework', 'housework'), ('bueno', 'bueno'), ('greg', 'greg'), ('georgia', 'georgia'), ('diamond', 'diamond'), ('gim', 'gim'), ('jump', 'jumped'), ('counti', 'county'), ('captain', 'captain'), ('uhh', 'uhh'), ('meg', 'meg'), ('cheaper', 'cheaper'), ('stood', 'stood'), ('suffer', 'suffer'), ('upcom', 'upcoming'), ('alien', 'alien'), ('dh', 'dh'), ('iron', 'ironing'), ('spoil', 'spoiled'), ('cycl', 'cycle'), ('brush', 'brush'), ('cheer', 'cheering'), ('sophi', 'sophie'), ('ni', 'ni'), ('neat', 'neat'), ('relax', 'relaxed'), ('comfort', 'comfortable'), ('disast', 'disaster'), ('crib', 'crib'), ('discount', 'discount'), ('twist', 'twisted'), ('ink', 'ink'), ('halfway', 'halfway'), ('goodi', 'goody'), ('eye', 'eyed'), ('farmer', 'farmer'), ('tetri', 'tetri'), ('sprint', 'sprint'), ('cheek', 'cheek'), ('wale', 'wale'), ('hulu', 'hulu'), ('ph', 'ph'), ('concept', 'concept'), ('eclips', 'eclipse'), ('notebook', 'notebook'), ('danger', 'dangerous'), ('acoust', 'acoustic'), ('crime', 'crime'), ('beatl', 'beatles'), ('presid', 'president'), ('calendar', 'calendar'), ('nat', 'nat'), ('load', 'loading'), ('ram', 'ram'), ('profession', 'professional'), ('mask', 'mask'), ('prison', 'prison'), ('surprisingli', 'surprisingly'), ('tweetup', 'tweetup'), ('ultim', 'ultimate'), ('lectur', 'lecture'), ('margarita', 'margarita'), ('physic', 'physical'), ('connect', 'connected'), ('surf', 'surf'), ('gut', 'gut'), ('tidi', 'tidy'), ('where', 'wheres'), ('recov', 'recover'), ('vegan', 'vegan'), ('tt', 'tt'), ('touch', 'touched'), ('oliv', 'olive'), ('bobbi', 'bobby'), ('flow', 'flow'), ('rb', 'rb'), ('gari', 'gary'), ('hott', 'hott'), ('calori', 'calorie'), ('hol', 'hols'), ('sytycd', 'sytycd'), ('cub', 'cub'), ('cs', 'c'), ('attack', 'attacked'), ('volleybal', 'volleyball'), ('accept', 'accepted'), ('po', 'po'), ('rip', 'ripped'), ('eight', 'eight'), ('shane', 'shane'), ('friendship', 'friendship'), ('ground', 'grounded'), ('anim', 'anime'), ('lj', 'lj'), ('tent', 'tent'), ('blank', 'blank'), ('taxi', 'taxi'), ('cross', 'crossing'), ('visit', 'visited'), ('anthoni', 'anthony'), ('weekli', 'weekly'), ('internship', 'internship'), ('ham', 'ham'), ('rad', 'rad'), ('tragic', 'tragic'), ('jackalltimelow', 'jackalltimelow'), ('beat', 'beating'), ('paint', 'painted'), ('funniest', 'funniest'), ('passport', 'passport'), ('frog', 'frog'), ('deserv', 'deserves'), ('maker', 'maker'), ('sort', 'sorting'), ('balconi', 'balcony'), ('abil', 'ability'), ('wkend', 'wkend'), ('sticker', 'sticker'), ('frame', 'frame'), ('korea', 'korea'), ('monica', 'monica'), ('booooo', 'booooo'), ('origin', 'origin'), ('flop', 'flop'), ('global', 'global'), ('compar', 'compared'), ('theellenshow', 'theellenshow'), ('blown', 'blown'), ('patienc', 'patience'), ('stun', 'stunning'), ('inspir', 'inspiring'), ('earn', 'earn'), ('hugh', 'hugh'), ('loui', 'louis'), ('ay', 'ay'), ('absolut', 'absolute'), ('rap', 'rap'), ('ughhhh', 'ughhhh'), ('yaaay', 'yaaay'), ('border', 'border'), ('regist', 'register'), ('expert', 'expert'), ('humor', 'humor'), ('emot', 'emotion'), ('peac', 'peaceful'), ('polish', 'polish'), ('therefor', 'therefore'), ('err', 'err'), ('freez', 'freeze'), ('portland', 'portland'), ('wire', 'wire'), ('wil', 'wil'), ('karaok', 'karaoke'), ('goodluck', 'goodluck'), ('nation', 'nation'), ('woooo', 'woooo'), ('hope', 'hoped'), ('urg', 'urge'), ('constantli', 'constantly'), ('schedul', 'scheduled'), ('jeremi', 'jeremy'), ('core', 'core'), ('belov', 'beloved'), ('rick', 'rick'), ('last', 'lasted'), ('hectic', 'hectic'), ('grandmoth', 'grandmother'), ('impress', 'impressive'), ('worri', 'worrying'), ('sampl', 'sample'), ('claim', 'claim'), ('continu', 'continues'), ('use', 'us'), ('mighti', 'mighty'), ('webcam', 'webcam'), ('snake', 'snake'), ('neighborhood', 'neighborhood'), ('rugbi', 'rugby'), ('oliv', 'oliver'), ('breez', 'breeze'), ('choc', 'choc'), ('jog', 'jogging'), ('anxiou', 'anxious'), ('sc', 'sc'), ('agh', 'agh'), ('sour', 'sour'), ('housew', 'housewife'), ('celeb', 'celeb'), ('twa', 'twas'), ('lobster', 'lobster'), ('jacki', 'jackie'), ('jeez', 'jeez'), ('bon', 'bon'), ('garden', 'gardening'), ('gen', 'gen'), ('jaw', 'jaw'), ('op', 'op'), ('basic', 'basic'), ('nk', 'nk'), ('instant', 'instant'), ('trainer', 'trainer'), ('naman', 'naman'), ('hiccup', 'hiccup'), ('bonfir', 'bonfire'), ('combin', 'combination'), ('amazingli', 'amazingly'), ('author', 'author'), ('bestest', 'bestest'), ('costum', 'costume'), ('fairli', 'fairly'), ('announc', 'announced'), ('dodger', 'dodger'), ('economi', 'economy'), ('natali', 'natalie'), ('drinkin', 'drinkin'), ('goooood', 'goooood'), ('del', 'del'), ('rafa', 'rafa'), ('spear', 'spear'), ('cigarett', 'cigarette'), ('jade', 'jade'), ('support', 'supporting'), ('abit', 'abit'), ('tone', 'tone'), ('nintendo', 'nintendo'), ('game', 'gaming'), ('verizon', 'verizon'), ('averag', 'average'), ('md', 'md'), ('dragon', 'dragon'), ('tend', 'tend'), ('tommorrow', 'tommorrow'), ('product', 'production'), ('hoe', 'hoe'), ('archi', 'archie'), ('mug', 'mug'), ('mikey', 'mikey'), ('bullshit', 'bullshit'), ('familiar', 'familiar'), ('spotifi', 'spotify'), ('eek', 'eek'), ('amaz', 'amazed'), ('ana', 'ana'), ('volunt', 'volunteer'), ('skate', 'skate'), ('ck', 'ck'), ('attend', 'attending'), ('ryanseacrest', 'ryanseacrest'), ('chose', 'chose'), ('shell', 'shell'), ('montreal', 'montreal'), ('brooklyn', 'brooklyn'), ('jenn', 'jenn'), ('dell', 'dell'), ('sunbath', 'sunbathing'), ('dutch', 'dutch'), ('injur', 'injured'), ('tomoz', 'tomoz'), ('gcse', 'gcse'), ('hilton', 'hilton'), ('bikini', 'bikini'), ('cullen', 'cullen'), ('rumor', 'rumor'), ('myweak', 'myweakness'), ('piss', 'pissing'), ('stat', 'stats'), ('nighter', 'nighter'), ('cud', 'cud'), ('european', 'european'), ('sinu', 'sinus'), ('uhm', 'uhm'), ('derbi', 'derby'), ('sg', 'sg'), ('mister', 'mister'), ('roger', 'roger'), ('twenti', 'twenty'), ('shake', 'shaking'), ('courtney', 'courtney'), ('southern', 'southern'), ('andrea', 'andrea'), ('attitud', 'attitude'), ('alan', 'alan'), ('sniffl', 'sniffle'), ('silent', 'silent'), ('ban', 'banned'), ('prep', 'prep'), ('paradis', 'paradise'), ('apolog', 'apologize'), ('mt', 'mt'), ('haz', 'haz'), ('burrito', 'burrito'), ('crush', 'crushed'), ('perth', 'perth'), ('appli', 'applied'), ('cba', 'cba'), ('condit', 'condition'), ('printer', 'printer'), ('mysteri', 'mystery'), ('leader', 'leader'), ('wot', 'wot'), ('entertain', 'entertain'), ('keith', 'keith'), ('cranki', 'cranky'), ('fit', 'fitness'), ('until', 'untill'), ('ness', 'ness'), ('doughnut', 'doughnut'), ('backstreetboy', 'backstreetboys'), ('multi', 'multi'), ('desper', 'desperately'), ('diva', 'diva'), ('carolina', 'carolina'), ('saddest', 'saddest'), ('wast', 'wasting'), ('thin', 'thin'), ('pop', 'popped'), ('strip', 'strip'), ('sue', 'sue'), ('brazilian', 'brazilian'), ('tina', 'tina'), ('fred', 'fred'), ('oc', 'oc'), ('ceremoni', 'ceremony'), ('blow', 'blowing'), ('smoothi', 'smoothie'), ('heidi', 'heidi'), ('celtic', 'celtic'), ('supper', 'supper'), ('legit', 'legit'), ('alert', 'alert'), ('motiv', 'motivated'), ('crab', 'crab'), ('relief', 'relief'), ('wierd', 'wierd'), ('regent', 'regent'), ('billyraycyru', 'billyraycyrus'), ('itouch', 'itouch'), ('missi', 'missy'), ('penni', 'penny'), ('pork', 'pork'), ('aj', 'aj'), ('tutori', 'tutorial'), ('teddi', 'teddy'), ('telli', 'telly'), ('lolol', 'lolol'), ('summertim', 'summertime'), ('muse', 'muse'), ('spin', 'spinning'), ('feed', 'feeding'), ('carrot', 'carrot'), ('stream', 'streaming'), ('mic', 'mic'), ('playoff', 'playoff'), ('pj', 'pj'), ('teas', 'tease'), ('ask', 'asks'), ('shi', 'shy'), ('curli', 'curly'), ('julia', 'julia'), ('stalk', 'stalk'), ('shaunjumpnow', 'shaunjumpnow'), ('slap', 'slap'), ('sonni', 'sonny'), ('edinburgh', 'edinburgh'), ('ave', 'ave'), ('typo', 'typo'), ('photograph', 'photographer'), ('stalk', 'stalking'), ('fella', 'fella'), ('paperwork', 'paperwork'), ('doh', 'doh'), ('psp', 'psp'), ('dane', 'dane'), ('network', 'networking'), ('curv', 'curve'), ('forest', 'forest'), ('spici', 'spicy'), ('li', 'li'), ('conf', 'conf'), ('marsiscom', 'marsiscoming'), ('disco', 'disco'), ('wht', 'wht'), ('closest', 'closest'), ('jonathan', 'jonathan'), ('icki', 'icky'), ('pineappl', 'pineapple'), ('cape', 'cape'), ('awar', 'aware'), ('rare', 'rarely'), ('lush', 'lush'), ('need', 'needing'), ('assum', 'assume'), ('damn', 'damned'), ('bash', 'bash'), ('garlic', 'garlic'), ('chloe', 'chloe'), ('spill', 'spilled'), ('trial', 'trial'), ('ot', 'ot'), ('footi', 'footy'), ('transfer', 'transfer'), ('sentenc', 'sentence'), ('api', 'api'), ('twitterfon', 'twitterfon'), ('sup', 'sup'), ('cage', 'cage'), ('bush', 'bush'), ('ignor', 'ignored'), ('hire', 'hire'), ('chin', 'chin'), ('cod', 'cod'), ('mad', 'madness'), ('figur', 'figuring'), ('breath', 'breathing'), ('erm', 'erm'), ('np', 'np'), ('diseas', 'disease'), ('vitamin', 'vitamin'), ('tick', 'tick'), ('goo', 'goo'), ('slight', 'slight'), ('schofe', 'schofe'), ('tail', 'tail'), ('aug', 'aug'), ('romant', 'romantic'), ('bbi', 'bby'), ('worship', 'worship'), ('thrill', 'thrilled'), ('bamboozl', 'bamboozle'), ('yearbook', 'yearbook'), ('spencer', 'spencer'), ('lane', 'lane'), ('fund', 'fund'), ('shadow', 'shadow'), ('convinc', 'convinced'), ('bitter', 'bitter'), ('candl', 'candle'), ('stress', 'stressing'), ('employe', 'employee'), ('queue', 'queue'), ('switch', 'switched'), ('concern', 'concerned'), ('vanessa', 'vanessa'), ('upstair', 'upstairs'), ('colorado', 'colorado'), ('len', 'lens'), ('leon', 'leon'), ('brook', 'brooke'), ('nin', 'nin'), ('polit', 'politics'), ('lit', 'lit'), ('ridicul', 'ridiculously'), ('wut', 'wut'), ('withdraw', 'withdrawal'), ('gw', 'gw'), ('lewi', 'lewis'), ('hai', 'hai'), ('yessss', 'yes'), ('banksyart', 'banksyart'), ('risk', 'risk'), ('unexpect', 'unexpected'), ('rc', 'rc'), ('bo', 'bo'), ('char', 'char'), ('firework', 'firework'), ('sept', 'sept'), ('humid', 'humidity'), ('immedi', 'immediately'), ('gna', 'gna'), ('handi', 'handy'), ('kool', 'kool'), ('newest', 'newest'), ('knowledg', 'knowledge'), ('newcastl', 'newcastle'), ('grill', 'grilled'), ('shanedawson', 'shanedawson'), ('bnp', 'bnp'), ('nbc', 'nbc'), ('propos', 'proposal'), ('pump', 'pump'), ('gener', 'generally'), ('stretch', 'stretch'), ('twitter', 'twittered'), ('grape', 'grape'), ('overcast', 'overcast'), ('depress', 'depression'), ('wwdc', 'wwdc'), ('russian', 'russian'), ('spoil', 'spoil'), ('simpson', 'simpson'), ('font', 'font'), ('lung', 'lung'), ('wolf', 'wolf'), ('oreo', 'oreo'), ('gi', 'gi'), ('vintag', 'vintage'), ('tequila', 'tequila'), ('particular', 'particular'), ('dani', 'dani'), ('cheesi', 'cheesy'), ('recess', 'recession'), ('yumm', 'yumm'), ('amus', 'amusing'), ('ebassman', 'ebassman'), ('leftov', 'leftover'), ('shower', 'showered'), ('disappoint', 'disappointment'), ('deliv', 'deliver'), ('rawr', 'rawr'), ('lad', 'lad'), ('booz', 'booze'), ('rocket', 'rocket'), ('obviou', 'obvious'), ('kk', 'kk'), ('babygirlpari', 'babygirlparis'), ('rome', 'rome'), ('salsa', 'salsa'), ('sweati', 'sweaty'), ('lemonad', 'lemonade'), ('greet', 'greet'), ('dylan', 'dylan'), ('fran', 'fran'), ('villag', 'village'), ('counter', 'counter'), ('pointless', 'pointless'), ('tablet', 'tablet'), ('huhu', 'huhu'), ('push', 'pushed'), ('ward', 'ward'), ('pb', 'pb'), ('francisco', 'francisco'), ('zealand', 'zealand'), ('freak', 'freaked'), ('oper', 'operation'), ('uniqu', 'unique'), ('caramel', 'caramel'), ('shannon', 'shannon'), ('knacker', 'knackered'), ('pixar', 'pixar'), ('motorcycl', 'motorcycle'), ('galleri', 'gallery'), ('mickey', 'mickey'), ('atlant', 'atlantic'), ('kc', 'kc'), ('iamsoannoy', 'iamsoannoyed'), ('default', 'default'), ('layin', 'layin'), ('shave', 'shave'), ('sho', 'sho'), ('gp', 'gp'), ('tissu', 'tissue'), ('gain', 'gained'), ('necessari', 'necessary'), ('youuuu', 'youuuu'), ('funn', 'funn'), ('mandyyjirouxx', 'mandyyjirouxx'), ('beliv', 'belive'), ('setup', 'setup'), ('offer', 'offered'), ('main', 'maine'), ('crawl', 'crawl'), ('salvat', 'salvation'), ('joel', 'joel'), ('bebo', 'bebo'), ('molli', 'molly'), ('thrown', 'thrown'), ('ego', 'ego'), ('ja', 'ja'), ('fu', 'fu'), ('tomoro', 'tomoro'), ('colleagu', 'colleague'), ('spoiler', 'spoiler'), ('uncomfort', 'uncomfortable'), ('smash', 'smashed'), ('netflix', 'netflix'), ('nyt', 'nyt'), ('code', 'coding'), ('birth', 'birth'), ('tooooo', 'tooooo'), ('tommi', 'tommy'), ('soooooooo', 'soooooooo'), ('recommend', 'recommended'), ('actress', 'actress'), ('besid', 'beside'), ('howard', 'howard'), ('dmb', 'dmb'), ('thesi', 'thesis'), ('steven', 'steven'), ('hbo', 'hbo'), ('wreck', 'wreck'), ('doggi', 'doggie'), ('leed', 'leeds'), ('tweeti', 'tweeties'), ('wid', 'wid'), ('et', 'et'), ('remind', 'reminding'), ('cum', 'cum'), ('blueberri', 'blueberry'), ('betti', 'betty'), ('fire', 'fired'), ('autograph', 'autograph'), ('mrskutcher', 'mrskutcher'), ('sever', 'severe'), ('stitch', 'stitch'), ('elbow', 'elbow'), ('lime', 'lime'), ('hotter', 'hotter'), ('hail', 'hail'), ('log', 'logged'), ('resum', 'resume'), ('grin', 'grin'), ('ditto', 'ditto'), ('improv', 'improve'), ('ooc', 'ooc'), ('technic', 'technically'), ('dryer', 'dryer'), ('explod', 'explode'), ('hunni', 'hunny'), ('vision', 'vision'), ('bold', 'bold'), ('drake', 'drake'), ('crunch', 'crunch'), ('ahahaha', 'ahahaha'), ('khloekardashian', 'khloekardashian'), ('path', 'path'), ('dl', 'dl'), ('crack', 'cracking'), ('outlook', 'outlook'), ('mann', 'mann'), ('looov', 'looove'), ('oi', 'oi'), ('survivor', 'survivor'), ('sympathi', 'sympathy'), ('draft', 'draft'), ('rel', 'relative'), ('bruis', 'bruised'), ('visitor', 'visitor'), ('sing', 'sings'), ('dayi', 'dayy'), ('numb', 'numb'), ('kfc', 'kfc'), ('tampa', 'tampa'), ('beard', 'beard'), ('desert', 'desert'), ('pitch', 'pitch'), ('toothach', 'toothache'), ('leak', 'leak'), ('seed', 'seed'), ('campaign', 'campaign'), ('spongebob', 'spongebob'), ('factor', 'factor'), ('motion', 'motion'), ('haa', 'haa'), ('wack', 'wack'), ('porch', 'porch'), ('gem', 'gem'), ('classmat', 'classmate'), ('hola', 'hola'), ('drain', 'drain'), ('william', 'williams'), ('ranger', 'ranger'), ('share', 'shared'), ('sb', 'sb'), ('lunchtim', 'lunchtime'), ('iamjonathancook', 'iamjonathancook'), ('serv', 'serve'), ('vocal', 'vocal'), ('arizona', 'arizona'), ('wayn', 'wayne'), ('hunter', 'hunter'), ('blush', 'blush'), ('exhaust', 'exhausting'), ('indonesia', 'indonesia'), ('css', 'cs'), ('disk', 'disk'), ('audienc', 'audience'), ('gnite', 'gnite'), ('postpon', 'postponed'), ('load', 'loaded'), ('ack', 'ack'), ('ear', 'earring'), ('tie', 'tied'), ('rant', 'rant'), ('climb', 'climbing'), ('victim', 'victim'), ('particularli', 'particularly'), ('funki', 'funky'), ('click', 'clicked'), ('past', 'paste'), ('dose', 'dose'), ('procrastin', 'procrastinating'), ('diana', 'diana'), ('morgan', 'morgan'), ('holland', 'holland'), ('await', 'awaiting'), ('ping', 'ping'), ('entir', 'entirely'), ('minor', 'minor'), ('uniform', 'uniform'), ('rocki', 'rocky'), ('medic', 'medical'), ('sunris', 'sunrise'), ('tori', 'torus'), ('suspect', 'suspect'), ('mcflyharri', 'mcflyharry'), ('thedebbyryan', 'thedebbyryan'), ('filter', 'filter'), ('victori', 'victory'), ('heartbroken', 'heartbroken'), ('ihop', 'ihop'), ('shed', 'shed'), ('stuffi', 'stuffy'), ('sweetest', 'sweetest'), ('hmph', 'hmph'), ('keen', 'keen'), ('format', 'format'), ('pilot', 'pilot'), ('stewart', 'stewart'), ('granni', 'granny'), ('farewel', 'farewell'), ('anni', 'annie'), ('nathan', 'nathan'), ('wif', 'wif'), ('login', 'login'), ('passeng', 'passenger'), ('crisp', 'crisp'), ('religion', 'religion'), ('sin', 'sin'), ('belt', 'belt'), ('hike', 'hike'), ('bg', 'bg'), ('yaay', 'yaay'), ('belat', 'belated'), ('mcflyforgermani', 'mcflyforgermany'), ('carradin', 'carradine'), ('dig', 'digging'), ('johnson', 'johnson'), ('requir', 'required'), ('kg', 'kg'), ('craft', 'craft'), ('cultur', 'culture'), ('wishin', 'wishin'), ('hype', 'hype'), ('lg', 'lg'), ('cycl', 'cycling'), ('chad', 'chad'), ('niley', 'niley'), ('realiz', 'realizing'), ('cone', 'cone'), ('anxieti', 'anxiety'), ('score', 'scored'), ('lovee', 'loveee'), ('larri', 'larry'), ('order', 'ordering'), ('reset', 'reset'), ('chop', 'chop'), ('hammer', 'hammer'), ('torn', 'torn'), ('method', 'method'), ('warm', 'warming'), ('towel', 'towel'), ('melt', 'melt'), ('sticki', 'sticky'), ('hand', 'handed'), ('sink', 'sink'), ('smaller', 'smaller'), ('ahhhhhh', 'ahhhhhh'), ('tripl', 'triple'), ('xoxox', 'xoxox'), ('yeahhh', 'yeahhh'), ('spell', 'spelled'), ('trace', 'trace'), ('kenni', 'kenny'), ('correctli', 'correctly'), ('enjoy', 'enjoyable'), ('spoon', 'spoon'), ('batman', 'batman'), ('peek', 'peek'), ('industri', 'industry'), ('ruin', 'ruining'), ('scratch', 'scratched'), ('altern', 'alternative'), ('grrrrr', 'grrrrr'), ('cm', 'cm'), ('worthi', 'worthy'), ('promot', 'promotion'), ('extens', 'extension'), ('newspap', 'newspaper'), ('jose', 'jose'), ('angela', 'angela'), ('homesick', 'homesick'), ('aunti', 'auntie'), ('equal', 'equal'), ('louis', 'louise'), ('rememb', 'remembering'), ('urself', 'urself'), ('sack', 'sack'), ('treatment', 'treatment'), ('thick', 'thick'), ('jj', 'jj'), ('mainli', 'mainly'), ('inform', 'informed'), ('commun', 'communication'), ('pastor', 'pastor'), ('jog', 'jog'), ('teenag', 'teenager'), ('pepsi', 'pepsi'), ('todayi', 'todayy'), ('pole', 'pole'), ('neil', 'neil'), ('discuss', 'discus'), ('hack', 'hack'), ('kayla', 'kayla'), ('mart', 'mart'), ('heal', 'healing'), ('destroy', 'destroyed'), ('sheep', 'sheep'), ('bra', 'bra'), ('lighten', 'lightening'), ('buckhollywood', 'buckhollywood'), ('rosi', 'rosie'), ('lifetim', 'lifetime'), ('perez', 'perez'), ('champ', 'champ'), ('mocha', 'mocha'), ('intro', 'intro'), ('unlik', 'unlike'), ('happili', 'happily'), ('condol', 'condolence'), ('harsh', 'harsh'), ('donat', 'donate'), ('reveng', 'revenge'), ('oral', 'oral'), ('gadget', 'gadget'), ('yell', 'yelling'), ('tokyo', 'tokyo'), ('quest', 'quest'), ('coulda', 'coulda'), ('babysit', 'babysit'), ('pint', 'pint'), ('unfortun', 'unfortunate'), ('debbiefletch', 'debbiefletcher'), ('leather', 'leather'), ('sleepin', 'sleepin'), ('grant', 'grant'), ('killin', 'killin'), ('jun', 'jun'), ('thirsti', 'thirsty'), ('own', 'owned'), ('blogtv', 'blogtv'), ('vacay', 'vacay'), ('settl', 'settled'), ('twit', 'twitting'), ('gnight', 'gnight'), ('yell', 'yell'), ('jessicaveronica', 'jessicaveronica'), ('list', 'listed'), ('spray', 'spray'), ('contempl', 'contemplating'), ('distract', 'distraction'), ('prove', 'prove'), ('eat', 'eats'), ('codi', 'cody'), ('fame', 'fame'), ('unpack', 'unpacking'), ('rs', 'r'), ('stil', 'stil'), ('runner', 'runner'), ('light', 'lighting'), ('gawd', 'gawd'), ('nan', 'nan'), ('block', 'blocking'), ('ole', 'ole'), ('moz', 'moz'), ('mcr', 'mcr'), ('former', 'former'), ('trail', 'trail'), ('virginia', 'virginia'), ('shark', 'shark'), ('tay', 'tay'), ('addict', 'addicting'), ('mraz', 'mraz'), ('eyebrow', 'eyebrow'), ('chillen', 'chillen'), ('murder', 'murder'), ('rss', 'r'), ('cole', 'cole'), ('possibl', 'possibility'), ('dip', 'dip'), ('phrase', 'phrase'), ('tn', 'tn'), ('dedic', 'dedicated'), ('educ', 'education'), ('lag', 'lag'), ('lou', 'lou'), ('chart', 'chart'), ('fuzzi', 'fuzzy'), ('lotteri', 'lottery'), ('hometown', 'hometown'), ('below', 'below'), ('notif', 'notification'), ('reward', 'reward'), ('ea', 'ea'), ('bom', 'bom'), ('modern', 'modern'), ('cuppa', 'cuppa'), ('charg', 'charging'), ('steal', 'stealing'), ('invit', 'invitation'), ('batch', 'batch'), ('euro', 'euro'), ('milkshak', 'milkshake'), ('televis', 'television'), ('champagn', 'champagne'), ('flavor', 'flavor'), ('extend', 'extended'), ('cloth', 'clothing'), ('promot', 'promote'), ('bell', 'belle'), ('du', 'du'), ('list', 'listing'), ('ke', 'ke'), ('sprain', 'sprained'), ('nap', 'napping'), ('leah', 'leah'), ('multipli', 'multiply'), ('tour', 'touring'), ('cent', 'cent'), ('tiffani', 'tiffany'), ('nurs', 'nursing'), ('correct', 'correction'), ('gahh', 'gahh'), ('overslept', 'overslept'), ('drunken', 'drunken'), ('pittsburgh', 'pittsburgh'), ('compar', 'compare'), ('dirt', 'dirt'), ('stadium', 'stadium'), ('coupon', 'coupon'), ('thisisdavina', 'thisisdavina'), ('iranian', 'iranian'), ('broadband', 'broadband'), ('christina', 'christina'), ('shrimp', 'shrimp'), ('vaca', 'vaca'), ('gener', 'generation'), ('symptom', 'symptom'), ('luca', 'lucas'), ('jan', 'jan'), ('daniel', 'danielle'), ('hk', 'hk'), ('woulda', 'woulda'), ('sunscreen', 'sunscreen'), ('becca', 'becca'), ('restor', 'restore'), ('zoe', 'zoe'), ('joelmadden', 'joelmadden'), ('oasi', 'oasis'), ('slip', 'slip'), ('convent', 'convention'), ('dress', 'dressing'), ('heal', 'heal'), ('pokemon', 'pokemon'), ('argument', 'argument'), ('roller', 'roller'), ('denis', 'denise'), ('asid', 'aside'), ('nic', 'nic'), ('leo', 'leo'), ('allison', 'allison'), ('jennif', 'jennifer'), ('william', 'william'), ('retrorewind', 'retrorewind'), ('fortun', 'fortune'), ('hihi', 'hihi'), ('android', 'android'), ('buffalo', 'buffalo'), ('poison', 'poisoning'), ('pud', 'pudding'), ('rm', 'rm'), ('studi', 'studied'), ('chase', 'chasing'), ('govern', 'government'), ('delet', 'deleting'), ('return', 'returning'), ('yt', 'yt'), ('shore', 'shore'), ('loan', 'loan'), ('router', 'router'), ('caus', 'caused'), ('charg', 'charged'), ('yell', 'yelled'), ('chill', 'chilled'), ('paig', 'paige'), ('dem', 'dem'), ('director', 'director'), ('suicid', 'suicide'), ('camper', 'camper'), ('bun', 'bun'), ('coco', 'coco'), ('aa', 'aa'), ('nana', 'nana'), ('shock', 'shocking'), ('skip', 'skipping'), ('wallpap', 'wallpaper'), ('confirm', 'confirmation'), ('doug', 'doug'), ('bachelorett', 'bachelorette'), ('indiana', 'indiana'), ('ova', 'ovum'), ('muah', 'muah'), ('electr', 'electricity'), ('extern', 'external'), ('cya', 'cya'), ('brisban', 'brisbane'), ('rais', 'raised'), ('upset', 'upsetting'), ('adob', 'adobe'), ('upgrad', 'upgraded'), ('itch', 'itch'), ('gp', 'gps'), ('enemi', 'enemy'), ('practic', 'practically'), ('label', 'label'), ('hayley', 'hayley'), ('puke', 'puke'), ('constant', 'constant'), ('paulaabdul', 'paulaabdul'), ('swap', 'swap'), ('twat', 'twat'), ('bball', 'bball'), ('treat', 'treating'), ('admin', 'admin'), ('stroke', 'stroke'), ('obsess', 'obsession'), ('fwd', 'fwd'), ('foster', 'foster'), ('fave', 'faves'), ('ar', 'ar'), ('sammi', 'sammy'), ('gather', 'gathering'), ('officialnjona', 'officialnjonas'), ('shuck', 'shuck'), ('db', 'db'), ('lastnight', 'lastnight'), ('patio', 'patio'), ('oatmeal', 'oatmeal'), ('owww', 'owww'), ('bucket', 'bucket'), ('bid', 'bid'), ('brick', 'brick'), ('visa', 'visa'), ('happend', 'happend'), ('directli', 'directly'), ('touch', 'touching'), ('davi', 'davis'), ('alll', 'alll'), ('shaq', 'shaq'), ('tara', 'tara'), ('blogspot', 'blogspot'), ('annual', 'annual'), ('shite', 'shite'), ('ted', 'ted'), ('bond', 'bond'), ('juri', 'jury'), ('featur', 'featured'), ('fals', 'false'), ('dough', 'dough'), ('relay', 'relay'), ('zach', 'zach'), ('centuri', 'century'), ('abbi', 'abby'), ('casey', 'casey'), ('poppin', 'poppin'), ('dew', 'dew'), ('mwah', 'mwah'), ('isplay', 'isplayer'), ('mcmahon', 'mcmahon'), ('pierc', 'piercing'), ('specif', 'specific'), ('brighton', 'brighton'), ('union', 'union'), ('iphon', 'iphones'), ('appropri', 'appropriate'), ('consid', 'considered'), ('mrw', 'mrw'), ('wonder', 'wondered'), ('bcuz', 'bcuz'), ('portfolio', 'portfolio'), ('html', 'html'), ('banner', 'banner'), ('carniv', 'carnival'), ('oldest', 'oldest'), ('brittani', 'brittany'), ('journal', 'journal'), ('circu', 'circus'), ('ure', 'ure'), ('sissi', 'sissy'), ('elizabeth', 'elizabeth'), ('swedish', 'swedish'), ('pow', 'pow'), ('justic', 'justice'), ('betta', 'betta'), ('br', 'br'), ('hotti', 'hottie'), ('caus', 'causing'), ('worm', 'worm'), ('wherev', 'wherever'), ('bike', 'biking'), ('alpha', 'alpha'), ('cuddl', 'cuddling'), ('technic', 'technical'), ('cinnamon', 'cinnamon')]\n"
     ]
    }
   ],
   "source": [
    "from nltk.probability import FreqDist\n",
    "all_words = [word for sublist in df['text_processed'] for word in sublist]\n",
    "freq_dist = FreqDist(all_words)\n",
    "top_words = freq_dist.most_common(5000)\n",
    "top_words = [word[0] for word in top_words]\n",
    "\n",
    "print(top_words)"
   ]
  },
  {
   "cell_type": "markdown",
   "metadata": {},
   "source": [
    "### Building Features\n",
    "\n",
    "Now let's build the features. Using the top 5,000 words, create a 2-dimensional matrix to record whether each of those words is contained in each document (tweet). Then you also have an output column to indicate whether the sentiment in each tweet is positive. For example, assuming your bag of words has 5 items (`['one', 'two', 'three', 'four', 'five']`) out of 4 documents (`['A', 'B', 'C', 'D']`), your feature set is essentially:\n",
    "\n",
    "| Doc | one | two | three | four | five | is_positive |\n",
    "|---|---|---|---|---|---|---|\n",
    "| A | True | False | False | True | False | True |\n",
    "| B | False | False | False | True | True | False |\n",
    "| C | False | True | False | False | False | True |\n",
    "| D | True | False | False | False | True | False|\n",
    "\n",
    "However, because the `nltk.NaiveBayesClassifier.train` class we will use in the next step does not work with Pandas dataframe, the structure of your feature set should be converted to the Python list looking like below:\n",
    "\n",
    "```python\n",
    "[\n",
    "\t({\n",
    "\t\t'one': True,\n",
    "\t\t'two': False,\n",
    "\t\t'three': False,\n",
    "\t\t'four': True,\n",
    "\t\t'five': False\n",
    "\t}, True),\n",
    "\t({\n",
    "\t\t'one': False,\n",
    "\t\t'two': False,\n",
    "\t\t'three': False,\n",
    "\t\t'four': True,\n",
    "\t\t'five': True\n",
    "\t}, False),\n",
    "\t({\n",
    "\t\t'one': False,\n",
    "\t\t'two': True,\n",
    "\t\t'three': False,\n",
    "\t\t'four': False,\n",
    "\t\t'five': False\n",
    "\t}, True),\n",
    "\t({\n",
    "\t\t'one': True,\n",
    "\t\t'two': False,\n",
    "\t\t'three': False,\n",
    "\t\t'four': False,\n",
    "\t\t'five': True\n",
    "\t}, False)\n",
    "]\n",
    "```\n",
    "\n",
    "To help you in this step, watch the [following video](https://www.youtube.com/watch?v=-vVskDsHcVc) to learn how to build the feature set with Python and NLTK. The source code in this video can be found [here](https://pythonprogramming.net/words-as-features-nltk-tutorial/)."
   ]
  },
  {
   "cell_type": "markdown",
   "metadata": {},
   "source": [
    "[![Building Features](building-features.jpg)](https://www.youtube.com/watch?v=-vVskDsHcVc)"
   ]
  },
  {
   "cell_type": "code",
   "execution_count": 22,
   "metadata": {},
   "outputs": [
    {
     "ename": "KeyError",
     "evalue": "'is_positive'",
     "output_type": "error",
     "traceback": [
      "\u001b[1;31m---------------------------------------------------------------------------\u001b[0m",
      "\u001b[1;31mKeyError\u001b[0m                                  Traceback (most recent call last)",
      "File \u001b[1;32mC:\\ANACONDA3\\Lib\\site-packages\\pandas\\core\\indexes\\base.py:3653\u001b[0m, in \u001b[0;36mIndex.get_loc\u001b[1;34m(self, key)\u001b[0m\n\u001b[0;32m   3652\u001b[0m \u001b[38;5;28;01mtry\u001b[39;00m:\n\u001b[1;32m-> 3653\u001b[0m     \u001b[38;5;28;01mreturn\u001b[39;00m \u001b[38;5;28mself\u001b[39m\u001b[38;5;241m.\u001b[39m_engine\u001b[38;5;241m.\u001b[39mget_loc(casted_key)\n\u001b[0;32m   3654\u001b[0m \u001b[38;5;28;01mexcept\u001b[39;00m \u001b[38;5;167;01mKeyError\u001b[39;00m \u001b[38;5;28;01mas\u001b[39;00m err:\n",
      "File \u001b[1;32mC:\\ANACONDA3\\Lib\\site-packages\\pandas\\_libs\\index.pyx:147\u001b[0m, in \u001b[0;36mpandas._libs.index.IndexEngine.get_loc\u001b[1;34m()\u001b[0m\n",
      "File \u001b[1;32mC:\\ANACONDA3\\Lib\\site-packages\\pandas\\_libs\\index.pyx:176\u001b[0m, in \u001b[0;36mpandas._libs.index.IndexEngine.get_loc\u001b[1;34m()\u001b[0m\n",
      "File \u001b[1;32mpandas\\_libs\\hashtable_class_helper.pxi:7080\u001b[0m, in \u001b[0;36mpandas._libs.hashtable.PyObjectHashTable.get_item\u001b[1;34m()\u001b[0m\n",
      "File \u001b[1;32mpandas\\_libs\\hashtable_class_helper.pxi:7088\u001b[0m, in \u001b[0;36mpandas._libs.hashtable.PyObjectHashTable.get_item\u001b[1;34m()\u001b[0m\n",
      "\u001b[1;31mKeyError\u001b[0m: 'is_positive'",
      "\nThe above exception was the direct cause of the following exception:\n",
      "\u001b[1;31mKeyError\u001b[0m                                  Traceback (most recent call last)",
      "Cell \u001b[1;32mIn[22], line 7\u001b[0m\n\u001b[0;32m      5\u001b[0m     \u001b[38;5;28;01mfor\u001b[39;00m word \u001b[38;5;129;01min\u001b[39;00m top_words:\n\u001b[0;32m      6\u001b[0m         document_features[word] \u001b[38;5;241m=\u001b[39m (word \u001b[38;5;129;01min\u001b[39;00m row[\u001b[38;5;124m'\u001b[39m\u001b[38;5;124mtext_processed\u001b[39m\u001b[38;5;124m'\u001b[39m])\n\u001b[1;32m----> 7\u001b[0m     feature_set\u001b[38;5;241m.\u001b[39mappend((document_features, row[\u001b[38;5;124m'\u001b[39m\u001b[38;5;124mis_positive\u001b[39m\u001b[38;5;124m'\u001b[39m]))\n\u001b[0;32m      9\u001b[0m \u001b[38;5;28mprint\u001b[39m(feature_set[:\u001b[38;5;241m10\u001b[39m])\n",
      "File \u001b[1;32mC:\\ANACONDA3\\Lib\\site-packages\\pandas\\core\\series.py:1007\u001b[0m, in \u001b[0;36mSeries.__getitem__\u001b[1;34m(self, key)\u001b[0m\n\u001b[0;32m   1004\u001b[0m     \u001b[38;5;28;01mreturn\u001b[39;00m \u001b[38;5;28mself\u001b[39m\u001b[38;5;241m.\u001b[39m_values[key]\n\u001b[0;32m   1006\u001b[0m \u001b[38;5;28;01melif\u001b[39;00m key_is_scalar:\n\u001b[1;32m-> 1007\u001b[0m     \u001b[38;5;28;01mreturn\u001b[39;00m \u001b[38;5;28mself\u001b[39m\u001b[38;5;241m.\u001b[39m_get_value(key)\n\u001b[0;32m   1009\u001b[0m \u001b[38;5;28;01mif\u001b[39;00m is_hashable(key):\n\u001b[0;32m   1010\u001b[0m     \u001b[38;5;66;03m# Otherwise index.get_value will raise InvalidIndexError\u001b[39;00m\n\u001b[0;32m   1011\u001b[0m     \u001b[38;5;28;01mtry\u001b[39;00m:\n\u001b[0;32m   1012\u001b[0m         \u001b[38;5;66;03m# For labels that don't resolve as scalars like tuples and frozensets\u001b[39;00m\n",
      "File \u001b[1;32mC:\\ANACONDA3\\Lib\\site-packages\\pandas\\core\\series.py:1116\u001b[0m, in \u001b[0;36mSeries._get_value\u001b[1;34m(self, label, takeable)\u001b[0m\n\u001b[0;32m   1113\u001b[0m     \u001b[38;5;28;01mreturn\u001b[39;00m \u001b[38;5;28mself\u001b[39m\u001b[38;5;241m.\u001b[39m_values[label]\n\u001b[0;32m   1115\u001b[0m \u001b[38;5;66;03m# Similar to Index.get_value, but we do not fall back to positional\u001b[39;00m\n\u001b[1;32m-> 1116\u001b[0m loc \u001b[38;5;241m=\u001b[39m \u001b[38;5;28mself\u001b[39m\u001b[38;5;241m.\u001b[39mindex\u001b[38;5;241m.\u001b[39mget_loc(label)\n\u001b[0;32m   1118\u001b[0m \u001b[38;5;28;01mif\u001b[39;00m is_integer(loc):\n\u001b[0;32m   1119\u001b[0m     \u001b[38;5;28;01mreturn\u001b[39;00m \u001b[38;5;28mself\u001b[39m\u001b[38;5;241m.\u001b[39m_values[loc]\n",
      "File \u001b[1;32mC:\\ANACONDA3\\Lib\\site-packages\\pandas\\core\\indexes\\base.py:3655\u001b[0m, in \u001b[0;36mIndex.get_loc\u001b[1;34m(self, key)\u001b[0m\n\u001b[0;32m   3653\u001b[0m     \u001b[38;5;28;01mreturn\u001b[39;00m \u001b[38;5;28mself\u001b[39m\u001b[38;5;241m.\u001b[39m_engine\u001b[38;5;241m.\u001b[39mget_loc(casted_key)\n\u001b[0;32m   3654\u001b[0m \u001b[38;5;28;01mexcept\u001b[39;00m \u001b[38;5;167;01mKeyError\u001b[39;00m \u001b[38;5;28;01mas\u001b[39;00m err:\n\u001b[1;32m-> 3655\u001b[0m     \u001b[38;5;28;01mraise\u001b[39;00m \u001b[38;5;167;01mKeyError\u001b[39;00m(key) \u001b[38;5;28;01mfrom\u001b[39;00m \u001b[38;5;21;01merr\u001b[39;00m\n\u001b[0;32m   3656\u001b[0m \u001b[38;5;28;01mexcept\u001b[39;00m \u001b[38;5;167;01mTypeError\u001b[39;00m:\n\u001b[0;32m   3657\u001b[0m     \u001b[38;5;66;03m# If we have a listlike key, _check_indexing_error will raise\u001b[39;00m\n\u001b[0;32m   3658\u001b[0m     \u001b[38;5;66;03m#  InvalidIndexError. Otherwise we fall through and re-raise\u001b[39;00m\n\u001b[0;32m   3659\u001b[0m     \u001b[38;5;66;03m#  the TypeError.\u001b[39;00m\n\u001b[0;32m   3660\u001b[0m     \u001b[38;5;28mself\u001b[39m\u001b[38;5;241m.\u001b[39m_check_indexing_error(key)\n",
      "\u001b[1;31mKeyError\u001b[0m: 'is_positive'"
     ]
    }
   ],
   "source": [
    "feature_set = []\n",
    "\n",
    "for index, row in df.iterrows():\n",
    "    document_features = {}\n",
    "    for word in top_words:\n",
    "        document_features[word] = (word in row['text_processed'])\n",
    "    feature_set.append((document_features, row['is_positive']))\n",
    "\n",
    "print(feature_set[:10]) "
   ]
  },
  {
   "cell_type": "markdown",
   "metadata": {},
   "source": [
    "### Building and Traininng Naive Bayes Model\n",
    "\n",
    "In this step you will split your feature set into a training and a test set. Then you will create a Bayes classifier instance using `nltk.NaiveBayesClassifier.train` ([example](https://www.nltk.org/book/ch06.html)) to train with the training dataset.\n",
    "\n",
    "After training the model, call `classifier.show_most_informative_features()` to inspect the most important features. The output will look like:\n",
    "\n",
    "```\n",
    "Most Informative Features\n",
    "\t    snow = True            False : True   =     34.3 : 1.0\n",
    "\t  easter = True            False : True   =     26.2 : 1.0\n",
    "\t headach = True            False : True   =     20.9 : 1.0\n",
    "\t    argh = True            False : True   =     17.6 : 1.0\n",
    "\tunfortun = True            False : True   =     16.9 : 1.0\n",
    "\t    jona = True             True : False  =     16.2 : 1.0\n",
    "\t     ach = True            False : True   =     14.9 : 1.0\n",
    "\t     sad = True            False : True   =     13.0 : 1.0\n",
    "\t  parent = True            False : True   =     12.9 : 1.0\n",
    "\t  spring = True            False : True   =     12.7 : 1.0\n",
    "```\n",
    "\n",
    "The [following video](https://www.youtube.com/watch?v=rISOsUaTrO4) will help you complete this step. The source code in this video can be found [here](https://pythonprogramming.net/naive-bayes-classifier-nltk-tutorial/)."
   ]
  },
  {
   "cell_type": "markdown",
   "metadata": {},
   "source": [
    "[![Building and Training NB](nb-model-building.jpg)](https://www.youtube.com/watch?v=rISOsUaTrO4)"
   ]
  },
  {
   "cell_type": "code",
   "execution_count": 24,
   "metadata": {},
   "outputs": [
    {
     "ename": "ValueError",
     "evalue": "A ELE probability distribution must have at least one bin.",
     "output_type": "error",
     "traceback": [
      "\u001b[1;31m---------------------------------------------------------------------------\u001b[0m",
      "\u001b[1;31mValueError\u001b[0m                                Traceback (most recent call last)",
      "Cell \u001b[1;32mIn[24], line 12\u001b[0m\n\u001b[0;32m      9\u001b[0m train_set \u001b[38;5;241m=\u001b[39m feature_set[:train_size]\n\u001b[0;32m     10\u001b[0m test_set \u001b[38;5;241m=\u001b[39m feature_set[train_size:]\n\u001b[1;32m---> 12\u001b[0m classifier \u001b[38;5;241m=\u001b[39m NaiveBayesClassifier\u001b[38;5;241m.\u001b[39mtrain(train_set)\n\u001b[0;32m     14\u001b[0m \u001b[38;5;66;03m# Evaluate the classifier accuracy on the test set\u001b[39;00m\n\u001b[0;32m     15\u001b[0m accuracy_score \u001b[38;5;241m=\u001b[39m accuracy(classifier, test_set)\n",
      "File \u001b[1;32mC:\\ANACONDA3\\Lib\\site-packages\\nltk\\classify\\naivebayes.py:236\u001b[0m, in \u001b[0;36mNaiveBayesClassifier.train\u001b[1;34m(cls, labeled_featuresets, estimator)\u001b[0m\n\u001b[0;32m    233\u001b[0m             feature_values[fname]\u001b[38;5;241m.\u001b[39madd(\u001b[38;5;28;01mNone\u001b[39;00m)\n\u001b[0;32m    235\u001b[0m \u001b[38;5;66;03m# Create the P(label) distribution\u001b[39;00m\n\u001b[1;32m--> 236\u001b[0m label_probdist \u001b[38;5;241m=\u001b[39m estimator(label_freqdist)\n\u001b[0;32m    238\u001b[0m \u001b[38;5;66;03m# Create the P(fval|label, fname) distribution\u001b[39;00m\n\u001b[0;32m    239\u001b[0m feature_probdist \u001b[38;5;241m=\u001b[39m {}\n",
      "File \u001b[1;32mC:\\ANACONDA3\\Lib\\site-packages\\nltk\\probability.py:972\u001b[0m, in \u001b[0;36mELEProbDist.__init__\u001b[1;34m(self, freqdist, bins)\u001b[0m\n\u001b[0;32m    957\u001b[0m \u001b[38;5;28;01mdef\u001b[39;00m \u001b[38;5;21m__init__\u001b[39m(\u001b[38;5;28mself\u001b[39m, freqdist, bins\u001b[38;5;241m=\u001b[39m\u001b[38;5;28;01mNone\u001b[39;00m):\n\u001b[0;32m    958\u001b[0m \u001b[38;5;250m    \u001b[39m\u001b[38;5;124;03m\"\"\"\u001b[39;00m\n\u001b[0;32m    959\u001b[0m \u001b[38;5;124;03m    Use the expected likelihood estimate to create a probability\u001b[39;00m\n\u001b[0;32m    960\u001b[0m \u001b[38;5;124;03m    distribution for the experiment used to generate ``freqdist``.\u001b[39;00m\n\u001b[1;32m   (...)\u001b[0m\n\u001b[0;32m    970\u001b[0m \u001b[38;5;124;03m        ``bins`` is not specified, it defaults to ``freqdist.B()``.\u001b[39;00m\n\u001b[0;32m    971\u001b[0m \u001b[38;5;124;03m    \"\"\"\u001b[39;00m\n\u001b[1;32m--> 972\u001b[0m     LidstoneProbDist\u001b[38;5;241m.\u001b[39m\u001b[38;5;21m__init__\u001b[39m(\u001b[38;5;28mself\u001b[39m, freqdist, \u001b[38;5;241m0.5\u001b[39m, bins)\n",
      "File \u001b[1;32mC:\\ANACONDA3\\Lib\\site-packages\\nltk\\probability.py:848\u001b[0m, in \u001b[0;36mLidstoneProbDist.__init__\u001b[1;34m(self, freqdist, gamma, bins)\u001b[0m\n\u001b[0;32m    846\u001b[0m \u001b[38;5;28;01mif\u001b[39;00m (bins \u001b[38;5;241m==\u001b[39m \u001b[38;5;241m0\u001b[39m) \u001b[38;5;129;01mor\u001b[39;00m (bins \u001b[38;5;129;01mis\u001b[39;00m \u001b[38;5;28;01mNone\u001b[39;00m \u001b[38;5;129;01mand\u001b[39;00m freqdist\u001b[38;5;241m.\u001b[39mN() \u001b[38;5;241m==\u001b[39m \u001b[38;5;241m0\u001b[39m):\n\u001b[0;32m    847\u001b[0m     name \u001b[38;5;241m=\u001b[39m \u001b[38;5;28mself\u001b[39m\u001b[38;5;241m.\u001b[39m\u001b[38;5;18m__class__\u001b[39m\u001b[38;5;241m.\u001b[39m\u001b[38;5;18m__name__\u001b[39m[:\u001b[38;5;241m-\u001b[39m\u001b[38;5;241m8\u001b[39m]\n\u001b[1;32m--> 848\u001b[0m     \u001b[38;5;28;01mraise\u001b[39;00m \u001b[38;5;167;01mValueError\u001b[39;00m(\n\u001b[0;32m    849\u001b[0m         \u001b[38;5;124m\"\u001b[39m\u001b[38;5;124mA \u001b[39m\u001b[38;5;132;01m%s\u001b[39;00m\u001b[38;5;124m probability distribution \u001b[39m\u001b[38;5;124m\"\u001b[39m \u001b[38;5;241m%\u001b[39m name \u001b[38;5;241m+\u001b[39m \u001b[38;5;124m\"\u001b[39m\u001b[38;5;124mmust have at least one bin.\u001b[39m\u001b[38;5;124m\"\u001b[39m\n\u001b[0;32m    850\u001b[0m     )\n\u001b[0;32m    851\u001b[0m \u001b[38;5;28;01mif\u001b[39;00m (bins \u001b[38;5;129;01mis\u001b[39;00m \u001b[38;5;129;01mnot\u001b[39;00m \u001b[38;5;28;01mNone\u001b[39;00m) \u001b[38;5;129;01mand\u001b[39;00m (bins \u001b[38;5;241m<\u001b[39m freqdist\u001b[38;5;241m.\u001b[39mB()):\n\u001b[0;32m    852\u001b[0m     name \u001b[38;5;241m=\u001b[39m \u001b[38;5;28mself\u001b[39m\u001b[38;5;241m.\u001b[39m\u001b[38;5;18m__class__\u001b[39m\u001b[38;5;241m.\u001b[39m\u001b[38;5;18m__name__\u001b[39m[:\u001b[38;5;241m-\u001b[39m\u001b[38;5;241m8\u001b[39m]\n",
      "\u001b[1;31mValueError\u001b[0m: A ELE probability distribution must have at least one bin."
     ]
    }
   ],
   "source": [
    "import random\n",
    "from nltk import NaiveBayesClassifier\n",
    "from nltk.classify import accuracy\n",
    "\n",
    "random.shuffle(feature_set)\n",
    "\n",
    "# Split the feature set into training and test sets (80% training, 20% test)\n",
    "train_size = int(0.8 * len(feature_set))\n",
    "train_set = feature_set[:train_size]\n",
    "test_set = feature_set[train_size:]\n",
    "\n",
    "classifier = NaiveBayesClassifier.train(train_set)\n",
    "\n",
    "# Evaluate the classifier accuracy on the test set\n",
    "accuracy_score = accuracy(classifier, test_set)\n",
    "print(\"Classifier accuracy:\", accuracy_score)\n",
    "\n",
    "# Show the most informative features\n",
    "print(\"Most Informative Features\")\n",
    "classifier.show_most_informative_features()\n"
   ]
  },
  {
   "cell_type": "markdown",
   "metadata": {},
   "source": [
    "### Testing Naive Bayes Model\n",
    "\n",
    "Now we'll test our classifier with the test dataset. This is done by calling `nltk.classify.accuracy(classifier, test)`.\n",
    "\n",
    "As mentioned in one of the tutorial videos, a Naive Bayes model is considered OK if your accuracy score is over 0.6. If your accuracy score is over 0.7, you've done a great job!"
   ]
  },
  {
   "cell_type": "code",
   "execution_count": null,
   "metadata": {},
   "outputs": [],
   "source": [
    "# Evaluate the classifier accuracy on the test set\n",
    "accuracy_score = accuracy(classifier, test_set)\n",
    "print(\"Classifier accuracy:\", accuracy_score)\n",
    "\n",
    "# Interpret the accuracy score\n",
    "if accuracy_score > 0.7:\n",
    "    print(\"You've done a great job!\")\n",
    "elif accuracy_score > 0.6:\n",
    "    print(\"Your Naive Bayes model is considered okay.\")\n",
    "else:\n",
    "    print(\"Your Naive Bayes model needs improvement.\")\n"
   ]
  },
  {
   "cell_type": "markdown",
   "metadata": {},
   "source": [
    "## Bonus Question 1: Improve Model Performance\n",
    "\n",
    "If you are still not exhausted so far and want to dig deeper, try to improve your classifier performance. There are many aspects you can dig into, for example:\n",
    "\n",
    "* Improve stemming and lemmatization. Inspect your bag of words and the most important features. Are there any words you should furuther remove from analysis? You can append these words to further remove to the stop words list.\n",
    "\n",
    "* Remember we only used the top 5,000 features to build model? Try using different numbers of top features. The bottom line is to use as few features as you can without compromising your model performance. The fewer features you select into your model, the faster your model is trained. Then you can use a larger sample size to improve your model accuracy score."
   ]
  },
  {
   "cell_type": "code",
   "execution_count": null,
   "metadata": {},
   "outputs": [],
   "source": [
    "# your code here"
   ]
  },
  {
   "cell_type": "markdown",
   "metadata": {},
   "source": [
    "## Bonus Question 2: Machine Learning Pipeline\n",
    "\n",
    "In a new Jupyter Notebook, combine all your codes into a function (or a class). Your new function will execute the complete machine learning pipeline job by receiving the dataset location and output the classifier. This will allow you to use your function to predict the sentiment of any tweet in real time. "
   ]
  },
  {
   "cell_type": "code",
   "execution_count": null,
   "metadata": {},
   "outputs": [],
   "source": [
    "# your code here"
   ]
  },
  {
   "cell_type": "markdown",
   "metadata": {},
   "source": [
    "## Bonus Question 3: Apache Spark\n",
    "\n",
    "If you have completed the Apache Spark advanced topic lab, what you can do is to migrate your pipeline from local to a Databricks Notebook. Share your notebook with your instructor and classmates to show off your achievements!"
   ]
  },
  {
   "cell_type": "code",
   "execution_count": null,
   "metadata": {},
   "outputs": [],
   "source": [
    "# your code here"
   ]
  }
 ],
 "metadata": {
  "kernelspec": {
   "display_name": "Python 3 (ipykernel)",
   "language": "python",
   "name": "python3"
  },
  "language_info": {
   "codemirror_mode": {
    "name": "ipython",
    "version": 3
   },
   "file_extension": ".py",
   "mimetype": "text/x-python",
   "name": "python",
   "nbconvert_exporter": "python",
   "pygments_lexer": "ipython3",
   "version": "3.11.5"
  }
 },
 "nbformat": 4,
 "nbformat_minor": 2
}
